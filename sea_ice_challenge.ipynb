{
 "cells": [
  {
   "cell_type": "markdown",
   "metadata": {},
   "source": [
    "# AI Launch Lab - Sea Ice Movement Challenge"
   ]
  },
  {
   "cell_type": "markdown",
   "metadata": {},
   "source": [
    "Import the necessary librairies needed to run the code "
   ]
  },
  {
   "cell_type": "code",
   "execution_count": 1,
   "metadata": {},
   "outputs": [],
   "source": [
    "import pickle\n",
    "import os \n",
    "import pandas as pd\n",
    "pd.options.mode.chained_assignment = None\n",
    "import datetime\n",
    "import numpy as np\n",
    "import os\n",
    "import ml_pipeline.readdata as mlpp"
   ]
  },
  {
   "cell_type": "markdown",
   "metadata": {},
   "source": [
    "Load the data from disk and display it "
   ]
  },
  {
   "cell_type": "code",
   "execution_count": 2,
   "metadata": {},
   "outputs": [
    {
     "name": "stdout",
     "output_type": "stream",
     "text": [
      "Dataframe shape:  (8, 15)\n"
     ]
    }
   ],
   "source": [
    "# Load the raw data to disk\n",
    "input_path = \"Samples DRIFT_DATA_TRAIN.csv\"\n",
    "df = pd.read_csv(input_path)\n",
    "\n",
    "# Convert all column names to lower case and display the dataframe \n",
    "df = df.rename(str.lower, axis='columns')\n",
    "df.set_index(\"id_buoy\")\n",
    "\n",
    "# Print the dataframe dimensions\n",
    "print(\"Dataframe shape: \", df.shape)"
   ]
  },
  {
   "cell_type": "code",
   "execution_count": 3,
   "metadata": {},
   "outputs": [
    {
     "name": "stdout",
     "output_type": "stream",
     "text": [
      "Before dropping the NaNs : (8, 15)\n",
      "After dropping the NaNs : (8, 15)\n",
      "After dropping the duplicates: (8, 15)\n"
     ]
    }
   ],
   "source": [
    "# Do some manipulations on the data and clean it (remove rows of all NaNs, remove duplicates, etc.)\n",
    "\n",
    "# Dropping the NA when there is no value on the current columns\n",
    "print(\"Before dropping the NaNs :\", df.shape)\n",
    "df = df.dropna(how=\"all\")\n",
    "print(\"After dropping the NaNs :\", df.shape)\n",
    "\n",
    "# Remove Duplicates \n",
    "df = df.drop_duplicates() \n",
    "\n",
    "# Print size of the df after dropping duplicates\n",
    "print(\"After dropping the duplicates:\", df.shape)"
   ]
  },
  {
   "cell_type": "markdown",
   "metadata": {},
   "source": [
    "Do some simple analyses on the data. Distributions, correlation maps, PCA, etc. \n"
   ]
  },
  {
   "cell_type": "code",
   "execution_count": 4,
   "metadata": {},
   "outputs": [
    {
     "name": "stdout",
     "output_type": "stream",
     "text": [
      "number of features: 15\n",
      "number of targets: 2\n",
      "labels: ['u_buoy', 'v_buoy']\n",
      "number of rows: 8\n",
      "Summarized data set:\n"
     ]
    },
    {
     "data": {
      "text/html": [
       "<div>\n",
       "<style scoped>\n",
       "    .dataframe tbody tr th:only-of-type {\n",
       "        vertical-align: middle;\n",
       "    }\n",
       "\n",
       "    .dataframe tbody tr th {\n",
       "        vertical-align: top;\n",
       "    }\n",
       "\n",
       "    .dataframe thead th {\n",
       "        text-align: right;\n",
       "    }\n",
       "</style>\n",
       "<table border=\"1\" class=\"dataframe\">\n",
       "  <thead>\n",
       "    <tr style=\"text-align: right;\">\n",
       "      <th></th>\n",
       "      <th>year</th>\n",
       "      <th>month</th>\n",
       "      <th>day</th>\n",
       "      <th>doy</th>\n",
       "      <th>x_ease</th>\n",
       "      <th>y_ease</th>\n",
       "      <th>u_buoy</th>\n",
       "      <th>v_buoy</th>\n",
       "      <th>id_buoy</th>\n",
       "      <th>u_era5</th>\n",
       "      <th>v_era5</th>\n",
       "      <th>sic_cdr</th>\n",
       "      <th>h_cs2smos</th>\n",
       "      <th>h_piomas</th>\n",
       "      <th>d2c</th>\n",
       "    </tr>\n",
       "  </thead>\n",
       "  <tbody>\n",
       "    <tr>\n",
       "      <th>0</th>\n",
       "      <td>1979</td>\n",
       "      <td>2</td>\n",
       "      <td>18</td>\n",
       "      <td>49</td>\n",
       "      <td>147.506958</td>\n",
       "      <td>138.582672</td>\n",
       "      <td>-0.797554</td>\n",
       "      <td>1.114740</td>\n",
       "      <td>1906</td>\n",
       "      <td>-6.704156</td>\n",
       "      <td>-0.321260</td>\n",
       "      <td>0.990195</td>\n",
       "      <td>NaN</td>\n",
       "      <td>3.189743</td>\n",
       "      <td>522.523298</td>\n",
       "    </tr>\n",
       "    <tr>\n",
       "      <th>1</th>\n",
       "      <td>1979</td>\n",
       "      <td>2</td>\n",
       "      <td>18</td>\n",
       "      <td>49</td>\n",
       "      <td>146.834778</td>\n",
       "      <td>120.509880</td>\n",
       "      <td>0.643200</td>\n",
       "      <td>0.368754</td>\n",
       "      <td>1913</td>\n",
       "      <td>-6.818630</td>\n",
       "      <td>-0.674205</td>\n",
       "      <td>0.966372</td>\n",
       "      <td>NaN</td>\n",
       "      <td>2.484009</td>\n",
       "      <td>412.767669</td>\n",
       "    </tr>\n",
       "    <tr>\n",
       "      <th>2</th>\n",
       "      <td>1979</td>\n",
       "      <td>2</td>\n",
       "      <td>18</td>\n",
       "      <td>49</td>\n",
       "      <td>130.993561</td>\n",
       "      <td>129.623672</td>\n",
       "      <td>-1.162420</td>\n",
       "      <td>0.243717</td>\n",
       "      <td>1914</td>\n",
       "      <td>-8.825469</td>\n",
       "      <td>1.123955</td>\n",
       "      <td>0.996022</td>\n",
       "      <td>NaN</td>\n",
       "      <td>2.474106</td>\n",
       "      <td>362.547379</td>\n",
       "    </tr>\n",
       "    <tr>\n",
       "      <th>3</th>\n",
       "      <td>1979</td>\n",
       "      <td>2</td>\n",
       "      <td>18</td>\n",
       "      <td>49</td>\n",
       "      <td>147.524719</td>\n",
       "      <td>157.382492</td>\n",
       "      <td>0.919766</td>\n",
       "      <td>0.025784</td>\n",
       "      <td>1918</td>\n",
       "      <td>-1.079951</td>\n",
       "      <td>-1.035410</td>\n",
       "      <td>0.982681</td>\n",
       "      <td>NaN</td>\n",
       "      <td>3.740522</td>\n",
       "      <td>381.025629</td>\n",
       "    </tr>\n",
       "    <tr>\n",
       "      <th>4</th>\n",
       "      <td>1979</td>\n",
       "      <td>2</td>\n",
       "      <td>19</td>\n",
       "      <td>50</td>\n",
       "      <td>147.470963</td>\n",
       "      <td>138.599823</td>\n",
       "      <td>0.380940</td>\n",
       "      <td>1.243485</td>\n",
       "      <td>1906</td>\n",
       "      <td>-2.169171</td>\n",
       "      <td>2.537787</td>\n",
       "      <td>0.990302</td>\n",
       "      <td>NaN</td>\n",
       "      <td>3.188522</td>\n",
       "      <td>521.535334</td>\n",
       "    </tr>\n",
       "    <tr>\n",
       "      <th>5</th>\n",
       "      <td>1979</td>\n",
       "      <td>2</td>\n",
       "      <td>19</td>\n",
       "      <td>50</td>\n",
       "      <td>180.349854</td>\n",
       "      <td>118.013527</td>\n",
       "      <td>1.387772</td>\n",
       "      <td>-0.253256</td>\n",
       "      <td>1911</td>\n",
       "      <td>2.680910</td>\n",
       "      <td>-0.295979</td>\n",
       "      <td>1.000000</td>\n",
       "      <td>NaN</td>\n",
       "      <td>2.574216</td>\n",
       "      <td>475.418633</td>\n",
       "    </tr>\n",
       "    <tr>\n",
       "      <th>6</th>\n",
       "      <td>1979</td>\n",
       "      <td>2</td>\n",
       "      <td>19</td>\n",
       "      <td>50</td>\n",
       "      <td>146.830490</td>\n",
       "      <td>120.509583</td>\n",
       "      <td>3.025445</td>\n",
       "      <td>1.076415</td>\n",
       "      <td>1913</td>\n",
       "      <td>0.551862</td>\n",
       "      <td>3.960332</td>\n",
       "      <td>1.000000</td>\n",
       "      <td>NaN</td>\n",
       "      <td>2.490376</td>\n",
       "      <td>412.761318</td>\n",
       "    </tr>\n",
       "    <tr>\n",
       "      <th>7</th>\n",
       "      <td>1979</td>\n",
       "      <td>2</td>\n",
       "      <td>19</td>\n",
       "      <td>50</td>\n",
       "      <td>130.940811</td>\n",
       "      <td>129.619873</td>\n",
       "      <td>1.409495</td>\n",
       "      <td>-0.041150</td>\n",
       "      <td>1914</td>\n",
       "      <td>-1.859920</td>\n",
       "      <td>1.140724</td>\n",
       "      <td>0.979121</td>\n",
       "      <td>NaN</td>\n",
       "      <td>2.480513</td>\n",
       "      <td>361.805709</td>\n",
       "    </tr>\n",
       "  </tbody>\n",
       "</table>\n",
       "</div>"
      ],
      "text/plain": [
       "   year  month  day  doy      x_ease      y_ease    u_buoy    v_buoy  id_buoy    u_era5    v_era5   sic_cdr  h_cs2smos  h_piomas         d2c\n",
       "0  1979      2   18   49  147.506958  138.582672 -0.797554  1.114740     1906 -6.704156 -0.321260  0.990195        NaN  3.189743  522.523298\n",
       "1  1979      2   18   49  146.834778  120.509880  0.643200  0.368754     1913 -6.818630 -0.674205  0.966372        NaN  2.484009  412.767669\n",
       "2  1979      2   18   49  130.993561  129.623672 -1.162420  0.243717     1914 -8.825469  1.123955  0.996022        NaN  2.474106  362.547379\n",
       "3  1979      2   18   49  147.524719  157.382492  0.919766  0.025784     1918 -1.079951 -1.035410  0.982681        NaN  3.740522  381.025629\n",
       "4  1979      2   19   50  147.470963  138.599823  0.380940  1.243485     1906 -2.169171  2.537787  0.990302        NaN  3.188522  521.535334\n",
       "5  1979      2   19   50  180.349854  118.013527  1.387772 -0.253256     1911  2.680910 -0.295979  1.000000        NaN  2.574216  475.418633\n",
       "6  1979      2   19   50  146.830490  120.509583  3.025445  1.076415     1913  0.551862  3.960332  1.000000        NaN  2.490376  412.761318\n",
       "7  1979      2   19   50  130.940811  129.619873  1.409495 -0.041150     1914 -1.859920  1.140724  0.979121        NaN  2.480513  361.805709"
      ]
     },
     "metadata": {},
     "output_type": "display_data"
    },
    {
     "name": "stdout",
     "output_type": "stream",
     "text": [
      "Dataset Stats:\n"
     ]
    }
   ],
   "source": [
    "df_summary = mlpp.summary_of_data(df, list(df.columns), ['u_buoy', 'v_buoy'])\n",
    "\n",
    "print(\"Summarized data set:\")\n",
    "display(df_summary)\n",
    "\n",
    "print(\"Dataset Stats:\")\n",
    "df.describe()\n",
    "\n",
    "original = df.copy()\n"
   ]
  },
  {
   "cell_type": "markdown",
   "metadata": {},
   "source": [
    "Visualize the data to analyze existing trends."
   ]
  },
  {
   "cell_type": "code",
   "execution_count": 5,
   "metadata": {},
   "outputs": [
    {
     "data": {
      "text/html": [
       "        <script type=\"text/javascript\">\n",
       "        window.PlotlyConfig = {MathJaxConfig: 'local'};\n",
       "        if (window.MathJax) {MathJax.Hub.Config({SVG: {font: \"STIX-Web\"}});}\n",
       "        if (typeof require !== 'undefined') {\n",
       "        require.undef(\"plotly\");\n",
       "        requirejs.config({\n",
       "            paths: {\n",
       "                'plotly': ['https://cdn.plot.ly/plotly-latest.min']\n",
       "            }\n",
       "        });\n",
       "        require(['plotly'], function(Plotly) {\n",
       "            window._Plotly = Plotly;\n",
       "        });\n",
       "        }\n",
       "        </script>\n",
       "        "
      ]
     },
     "metadata": {},
     "output_type": "display_data"
    }
   ],
   "source": [
    "# import necessary libraries for dynamic plotting \n",
    "import chart_studio.plotly as py\n",
    "import plotly.graph_objs as go # import plotly graph objects\n",
    "from plotly.offline import download_plotlyjs, init_notebook_mode, plot, iplot\n",
    "from plotly.subplots import make_subplots\n",
    "\n",
    "# Jupyter Setup \n",
    "init_notebook_mode(connected=True) # allows us to visualize the code in a jupyter notebook"
   ]
  },
  {
   "cell_type": "code",
   "execution_count": 6,
   "metadata": {},
   "outputs": [
    {
     "name": "stderr",
     "output_type": "stream",
     "text": [
      "C:\\Users\\Amanda\\Anaconda3\\envs\\laams\\lib\\site-packages\\sklearn\\preprocessing\\_data.py:373: RuntimeWarning:\n",
      "\n",
      "All-NaN slice encountered\n",
      "\n",
      "C:\\Users\\Amanda\\Anaconda3\\envs\\laams\\lib\\site-packages\\sklearn\\preprocessing\\_data.py:374: RuntimeWarning:\n",
      "\n",
      "All-NaN slice encountered\n",
      "\n"
     ]
    },
    {
     "data": {
      "text/html": [
       "<div>\n",
       "<style scoped>\n",
       "    .dataframe tbody tr th:only-of-type {\n",
       "        vertical-align: middle;\n",
       "    }\n",
       "\n",
       "    .dataframe tbody tr th {\n",
       "        vertical-align: top;\n",
       "    }\n",
       "\n",
       "    .dataframe thead th {\n",
       "        text-align: right;\n",
       "    }\n",
       "</style>\n",
       "<table border=\"1\" class=\"dataframe\">\n",
       "  <thead>\n",
       "    <tr style=\"text-align: right;\">\n",
       "      <th></th>\n",
       "      <th>year</th>\n",
       "      <th>month</th>\n",
       "      <th>day</th>\n",
       "      <th>doy</th>\n",
       "      <th>x_ease</th>\n",
       "      <th>y_ease</th>\n",
       "      <th>u_buoy</th>\n",
       "      <th>v_buoy</th>\n",
       "      <th>id_buoy</th>\n",
       "      <th>u_era5</th>\n",
       "      <th>v_era5</th>\n",
       "      <th>sic_cdr</th>\n",
       "      <th>h_cs2smos</th>\n",
       "      <th>h_piomas</th>\n",
       "      <th>d2c</th>\n",
       "    </tr>\n",
       "  </thead>\n",
       "  <tbody>\n",
       "    <tr>\n",
       "      <th>0</th>\n",
       "      <td>1979</td>\n",
       "      <td>2</td>\n",
       "      <td>18</td>\n",
       "      <td>0.0</td>\n",
       "      <td>0.335286</td>\n",
       "      <td>0.522471</td>\n",
       "      <td>0.087125</td>\n",
       "      <td>0.913983</td>\n",
       "      <td>1906</td>\n",
       "      <td>0.184360</td>\n",
       "      <td>0.142952</td>\n",
       "      <td>0.708423</td>\n",
       "      <td>NaN</td>\n",
       "      <td>0.565088</td>\n",
       "      <td>1.000000</td>\n",
       "    </tr>\n",
       "    <tr>\n",
       "      <th>1</th>\n",
       "      <td>1979</td>\n",
       "      <td>2</td>\n",
       "      <td>18</td>\n",
       "      <td>0.0</td>\n",
       "      <td>0.321681</td>\n",
       "      <td>0.063409</td>\n",
       "      <td>0.431155</td>\n",
       "      <td>0.415576</td>\n",
       "      <td>1913</td>\n",
       "      <td>0.174411</td>\n",
       "      <td>0.072302</td>\n",
       "      <td>0.000000</td>\n",
       "      <td>NaN</td>\n",
       "      <td>0.007819</td>\n",
       "      <td>0.317090</td>\n",
       "    </tr>\n",
       "    <tr>\n",
       "      <th>2</th>\n",
       "      <td>1979</td>\n",
       "      <td>2</td>\n",
       "      <td>18</td>\n",
       "      <td>0.0</td>\n",
       "      <td>0.001068</td>\n",
       "      <td>0.294906</td>\n",
       "      <td>0.000000</td>\n",
       "      <td>0.332037</td>\n",
       "      <td>1914</td>\n",
       "      <td>0.000000</td>\n",
       "      <td>0.432241</td>\n",
       "      <td>0.881715</td>\n",
       "      <td>NaN</td>\n",
       "      <td>0.000000</td>\n",
       "      <td>0.004615</td>\n",
       "    </tr>\n",
       "    <tr>\n",
       "      <th>3</th>\n",
       "      <td>1979</td>\n",
       "      <td>2</td>\n",
       "      <td>18</td>\n",
       "      <td>0.0</td>\n",
       "      <td>0.335645</td>\n",
       "      <td>1.000000</td>\n",
       "      <td>0.497195</td>\n",
       "      <td>0.186432</td>\n",
       "      <td>1918</td>\n",
       "      <td>0.673150</td>\n",
       "      <td>0.000000</td>\n",
       "      <td>0.484997</td>\n",
       "      <td>NaN</td>\n",
       "      <td>1.000000</td>\n",
       "      <td>0.119588</td>\n",
       "    </tr>\n",
       "    <tr>\n",
       "      <th>4</th>\n",
       "      <td>1979</td>\n",
       "      <td>2</td>\n",
       "      <td>19</td>\n",
       "      <td>1.0</td>\n",
       "      <td>0.334557</td>\n",
       "      <td>0.522907</td>\n",
       "      <td>0.368531</td>\n",
       "      <td>1.000000</td>\n",
       "      <td>1906</td>\n",
       "      <td>0.578488</td>\n",
       "      <td>0.715249</td>\n",
       "      <td>0.711596</td>\n",
       "      <td>NaN</td>\n",
       "      <td>0.564124</td>\n",
       "      <td>0.993853</td>\n",
       "    </tr>\n",
       "    <tr>\n",
       "      <th>5</th>\n",
       "      <td>1979</td>\n",
       "      <td>2</td>\n",
       "      <td>19</td>\n",
       "      <td>1.0</td>\n",
       "      <td>1.000000</td>\n",
       "      <td>0.000000</td>\n",
       "      <td>0.608948</td>\n",
       "      <td>0.000000</td>\n",
       "      <td>1911</td>\n",
       "      <td>1.000000</td>\n",
       "      <td>0.148012</td>\n",
       "      <td>1.000000</td>\n",
       "      <td>NaN</td>\n",
       "      <td>0.079050</td>\n",
       "      <td>0.706910</td>\n",
       "    </tr>\n",
       "    <tr>\n",
       "      <th>6</th>\n",
       "      <td>1979</td>\n",
       "      <td>2</td>\n",
       "      <td>19</td>\n",
       "      <td>1.0</td>\n",
       "      <td>0.321595</td>\n",
       "      <td>0.063402</td>\n",
       "      <td>1.000000</td>\n",
       "      <td>0.888377</td>\n",
       "      <td>1913</td>\n",
       "      <td>0.814968</td>\n",
       "      <td>1.000000</td>\n",
       "      <td>0.999999</td>\n",
       "      <td>NaN</td>\n",
       "      <td>0.012847</td>\n",
       "      <td>0.317051</td>\n",
       "    </tr>\n",
       "    <tr>\n",
       "      <th>7</th>\n",
       "      <td>1979</td>\n",
       "      <td>2</td>\n",
       "      <td>19</td>\n",
       "      <td>1.0</td>\n",
       "      <td>0.000000</td>\n",
       "      <td>0.294810</td>\n",
       "      <td>0.614135</td>\n",
       "      <td>0.141712</td>\n",
       "      <td>1914</td>\n",
       "      <td>0.605364</td>\n",
       "      <td>0.435598</td>\n",
       "      <td>0.379110</td>\n",
       "      <td>NaN</td>\n",
       "      <td>0.005059</td>\n",
       "      <td>0.000000</td>\n",
       "    </tr>\n",
       "  </tbody>\n",
       "</table>\n",
       "</div>"
      ],
      "text/plain": [
       "   year  month  day  doy    x_ease    y_ease    u_buoy    v_buoy  id_buoy    u_era5    v_era5   sic_cdr  h_cs2smos  h_piomas       d2c\n",
       "0  1979      2   18  0.0  0.335286  0.522471  0.087125  0.913983     1906  0.184360  0.142952  0.708423        NaN  0.565088  1.000000\n",
       "1  1979      2   18  0.0  0.321681  0.063409  0.431155  0.415576     1913  0.174411  0.072302  0.000000        NaN  0.007819  0.317090\n",
       "2  1979      2   18  0.0  0.001068  0.294906  0.000000  0.332037     1914  0.000000  0.432241  0.881715        NaN  0.000000  0.004615\n",
       "3  1979      2   18  0.0  0.335645  1.000000  0.497195  0.186432     1918  0.673150  0.000000  0.484997        NaN  1.000000  0.119588\n",
       "4  1979      2   19  1.0  0.334557  0.522907  0.368531  1.000000     1906  0.578488  0.715249  0.711596        NaN  0.564124  0.993853\n",
       "5  1979      2   19  1.0  1.000000  0.000000  0.608948  0.000000     1911  1.000000  0.148012  1.000000        NaN  0.079050  0.706910\n",
       "6  1979      2   19  1.0  0.321595  0.063402  1.000000  0.888377     1913  0.814968  1.000000  0.999999        NaN  0.012847  0.317051\n",
       "7  1979      2   19  1.0  0.000000  0.294810  0.614135  0.141712     1914  0.605364  0.435598  0.379110        NaN  0.005059  0.000000"
      ]
     },
     "metadata": {},
     "output_type": "display_data"
    }
   ],
   "source": [
    "# Normalize the data using min-max Normalization \n",
    "from sklearn.preprocessing import MinMaxScaler\n",
    "\n",
    "# Create a MinMaxScaler object and scale the data \n",
    "scaler = MinMaxScaler() \n",
    "columns_normalized = [\"doy\", \"x_ease\", \"y_ease\", \"u_buoy\", \"v_buoy\",\"u_era5\",\"v_era5\",\"sic_cdr\",\"h_cs2smos\", \"h_piomas\",\"d2c\"]\n",
    "x = df[columns_normalized].values\n",
    "x_scaled = scaler.fit_transform(x)\n",
    "df_temp = pd.DataFrame(x_scaled, columns=columns_normalized, index = df.index)\n",
    "df[columns_normalized] = df_temp\n",
    "\n",
    "# Display the normalized data\n",
    "display(df)"
   ]
  },
  {
   "cell_type": "code",
   "execution_count": 13,
   "metadata": {},
   "outputs": [
    {
     "data": {
      "application/vnd.plotly.v1+json": {
       "config": {
        "plotlyServerURL": "https://plot.ly"
       },
       "data": [
        {
         "alignmentgroup": "True",
         "boxpoints": "all",
         "hovertemplate": "variable=%{x}<br>value=%{y}<extra></extra>",
         "legendgroup": "",
         "marker": {
          "color": "#636efa"
         },
         "name": "",
         "notched": false,
         "offsetgroup": "",
         "orientation": "v",
         "showlegend": false,
         "type": "box",
         "x": [
          "doy",
          "doy",
          "doy",
          "doy",
          "doy",
          "doy",
          "doy",
          "doy",
          "x_ease",
          "x_ease",
          "x_ease",
          "x_ease",
          "x_ease",
          "x_ease",
          "x_ease",
          "x_ease",
          "y_ease",
          "y_ease",
          "y_ease",
          "y_ease",
          "y_ease",
          "y_ease",
          "y_ease",
          "y_ease",
          "u_buoy",
          "u_buoy",
          "u_buoy",
          "u_buoy",
          "u_buoy",
          "u_buoy",
          "u_buoy",
          "u_buoy",
          "v_buoy",
          "v_buoy",
          "v_buoy",
          "v_buoy",
          "v_buoy",
          "v_buoy",
          "v_buoy",
          "v_buoy",
          "u_era5",
          "u_era5",
          "u_era5",
          "u_era5",
          "u_era5",
          "u_era5",
          "u_era5",
          "u_era5",
          "v_era5",
          "v_era5",
          "v_era5",
          "v_era5",
          "v_era5",
          "v_era5",
          "v_era5",
          "v_era5",
          "sic_cdr",
          "sic_cdr",
          "sic_cdr",
          "sic_cdr",
          "sic_cdr",
          "sic_cdr",
          "sic_cdr",
          "sic_cdr",
          "h_cs2smos",
          "h_cs2smos",
          "h_cs2smos",
          "h_cs2smos",
          "h_cs2smos",
          "h_cs2smos",
          "h_cs2smos",
          "h_cs2smos",
          "h_piomas",
          "h_piomas",
          "h_piomas",
          "h_piomas",
          "h_piomas",
          "h_piomas",
          "h_piomas",
          "h_piomas",
          "d2c",
          "d2c",
          "d2c",
          "d2c",
          "d2c",
          "d2c",
          "d2c",
          "d2c"
         ],
         "x0": " ",
         "xaxis": "x",
         "y": [
          0,
          0,
          0,
          0,
          1,
          1,
          1,
          1,
          0.33528573030052433,
          0.3216813343499769,
          0.0010676109325569172,
          0.33564520357952743,
          0.3345572101414631,
          1,
          0.32159455428864936,
          0,
          0.5224710663546137,
          0.06340916353708392,
          0.29490603893012723,
          1,
          0.5229067110011303,
          0,
          0.06340160564507746,
          0.2948095304630489,
          0.08712458893814876,
          0.43115525608933414,
          0,
          0.49719511825071583,
          0.36853146358485706,
          0.6089481069336096,
          1,
          0.6141351306468316,
          0.9139831389219907,
          0.41557624619011313,
          0.33203674113406184,
          0.1864320541875698,
          1,
          0,
          0.8883774581937126,
          0.1417122247883028,
          0.1843597542548514,
          0.17441096978891668,
          0,
          0.6731499431942527,
          0.5784875937830822,
          0.9999999999999999,
          0.8149680305621614,
          0.6053641223516827,
          0.14295174888043977,
          0.07230245664700014,
          0.43224107082412166,
          0,
          0.7152485553293033,
          0.14801210421821545,
          1,
          0.4355977383488774,
          0.7084230439726298,
          0,
          0.8817148864781466,
          0.4849965920233572,
          0.7115959634339326,
          1,
          0.9999993353226841,
          0.3791102921066809,
          null,
          null,
          null,
          null,
          null,
          null,
          null,
          null,
          0.5650879929860382,
          0.007819315343226663,
          0,
          1.0000000000000002,
          0.5641239375097291,
          0.07904987768552174,
          0.01284735575356688,
          0.005058783213081286,
          1,
          0.31709012557958705,
          0.004614742193710608,
          0.11958815877285955,
          0.9938527959985572,
          0.7069103351615902,
          0.3170506048697108,
          0
         ],
         "y0": " ",
         "yaxis": "y"
        }
       ],
       "layout": {
        "boxmode": "group",
        "legend": {
         "tracegroupgap": 0
        },
        "margin": {
         "t": 60
        },
        "template": {
         "data": {
          "bar": [
           {
            "error_x": {
             "color": "#2a3f5f"
            },
            "error_y": {
             "color": "#2a3f5f"
            },
            "marker": {
             "line": {
              "color": "#E5ECF6",
              "width": 0.5
             }
            },
            "type": "bar"
           }
          ],
          "barpolar": [
           {
            "marker": {
             "line": {
              "color": "#E5ECF6",
              "width": 0.5
             }
            },
            "type": "barpolar"
           }
          ],
          "carpet": [
           {
            "aaxis": {
             "endlinecolor": "#2a3f5f",
             "gridcolor": "white",
             "linecolor": "white",
             "minorgridcolor": "white",
             "startlinecolor": "#2a3f5f"
            },
            "baxis": {
             "endlinecolor": "#2a3f5f",
             "gridcolor": "white",
             "linecolor": "white",
             "minorgridcolor": "white",
             "startlinecolor": "#2a3f5f"
            },
            "type": "carpet"
           }
          ],
          "choropleth": [
           {
            "colorbar": {
             "outlinewidth": 0,
             "ticks": ""
            },
            "type": "choropleth"
           }
          ],
          "contour": [
           {
            "colorbar": {
             "outlinewidth": 0,
             "ticks": ""
            },
            "colorscale": [
             [
              0,
              "#0d0887"
             ],
             [
              0.1111111111111111,
              "#46039f"
             ],
             [
              0.2222222222222222,
              "#7201a8"
             ],
             [
              0.3333333333333333,
              "#9c179e"
             ],
             [
              0.4444444444444444,
              "#bd3786"
             ],
             [
              0.5555555555555556,
              "#d8576b"
             ],
             [
              0.6666666666666666,
              "#ed7953"
             ],
             [
              0.7777777777777778,
              "#fb9f3a"
             ],
             [
              0.8888888888888888,
              "#fdca26"
             ],
             [
              1,
              "#f0f921"
             ]
            ],
            "type": "contour"
           }
          ],
          "contourcarpet": [
           {
            "colorbar": {
             "outlinewidth": 0,
             "ticks": ""
            },
            "type": "contourcarpet"
           }
          ],
          "heatmap": [
           {
            "colorbar": {
             "outlinewidth": 0,
             "ticks": ""
            },
            "colorscale": [
             [
              0,
              "#0d0887"
             ],
             [
              0.1111111111111111,
              "#46039f"
             ],
             [
              0.2222222222222222,
              "#7201a8"
             ],
             [
              0.3333333333333333,
              "#9c179e"
             ],
             [
              0.4444444444444444,
              "#bd3786"
             ],
             [
              0.5555555555555556,
              "#d8576b"
             ],
             [
              0.6666666666666666,
              "#ed7953"
             ],
             [
              0.7777777777777778,
              "#fb9f3a"
             ],
             [
              0.8888888888888888,
              "#fdca26"
             ],
             [
              1,
              "#f0f921"
             ]
            ],
            "type": "heatmap"
           }
          ],
          "heatmapgl": [
           {
            "colorbar": {
             "outlinewidth": 0,
             "ticks": ""
            },
            "colorscale": [
             [
              0,
              "#0d0887"
             ],
             [
              0.1111111111111111,
              "#46039f"
             ],
             [
              0.2222222222222222,
              "#7201a8"
             ],
             [
              0.3333333333333333,
              "#9c179e"
             ],
             [
              0.4444444444444444,
              "#bd3786"
             ],
             [
              0.5555555555555556,
              "#d8576b"
             ],
             [
              0.6666666666666666,
              "#ed7953"
             ],
             [
              0.7777777777777778,
              "#fb9f3a"
             ],
             [
              0.8888888888888888,
              "#fdca26"
             ],
             [
              1,
              "#f0f921"
             ]
            ],
            "type": "heatmapgl"
           }
          ],
          "histogram": [
           {
            "marker": {
             "colorbar": {
              "outlinewidth": 0,
              "ticks": ""
             }
            },
            "type": "histogram"
           }
          ],
          "histogram2d": [
           {
            "colorbar": {
             "outlinewidth": 0,
             "ticks": ""
            },
            "colorscale": [
             [
              0,
              "#0d0887"
             ],
             [
              0.1111111111111111,
              "#46039f"
             ],
             [
              0.2222222222222222,
              "#7201a8"
             ],
             [
              0.3333333333333333,
              "#9c179e"
             ],
             [
              0.4444444444444444,
              "#bd3786"
             ],
             [
              0.5555555555555556,
              "#d8576b"
             ],
             [
              0.6666666666666666,
              "#ed7953"
             ],
             [
              0.7777777777777778,
              "#fb9f3a"
             ],
             [
              0.8888888888888888,
              "#fdca26"
             ],
             [
              1,
              "#f0f921"
             ]
            ],
            "type": "histogram2d"
           }
          ],
          "histogram2dcontour": [
           {
            "colorbar": {
             "outlinewidth": 0,
             "ticks": ""
            },
            "colorscale": [
             [
              0,
              "#0d0887"
             ],
             [
              0.1111111111111111,
              "#46039f"
             ],
             [
              0.2222222222222222,
              "#7201a8"
             ],
             [
              0.3333333333333333,
              "#9c179e"
             ],
             [
              0.4444444444444444,
              "#bd3786"
             ],
             [
              0.5555555555555556,
              "#d8576b"
             ],
             [
              0.6666666666666666,
              "#ed7953"
             ],
             [
              0.7777777777777778,
              "#fb9f3a"
             ],
             [
              0.8888888888888888,
              "#fdca26"
             ],
             [
              1,
              "#f0f921"
             ]
            ],
            "type": "histogram2dcontour"
           }
          ],
          "mesh3d": [
           {
            "colorbar": {
             "outlinewidth": 0,
             "ticks": ""
            },
            "type": "mesh3d"
           }
          ],
          "parcoords": [
           {
            "line": {
             "colorbar": {
              "outlinewidth": 0,
              "ticks": ""
             }
            },
            "type": "parcoords"
           }
          ],
          "pie": [
           {
            "automargin": true,
            "type": "pie"
           }
          ],
          "scatter": [
           {
            "marker": {
             "colorbar": {
              "outlinewidth": 0,
              "ticks": ""
             }
            },
            "type": "scatter"
           }
          ],
          "scatter3d": [
           {
            "line": {
             "colorbar": {
              "outlinewidth": 0,
              "ticks": ""
             }
            },
            "marker": {
             "colorbar": {
              "outlinewidth": 0,
              "ticks": ""
             }
            },
            "type": "scatter3d"
           }
          ],
          "scattercarpet": [
           {
            "marker": {
             "colorbar": {
              "outlinewidth": 0,
              "ticks": ""
             }
            },
            "type": "scattercarpet"
           }
          ],
          "scattergeo": [
           {
            "marker": {
             "colorbar": {
              "outlinewidth": 0,
              "ticks": ""
             }
            },
            "type": "scattergeo"
           }
          ],
          "scattergl": [
           {
            "marker": {
             "colorbar": {
              "outlinewidth": 0,
              "ticks": ""
             }
            },
            "type": "scattergl"
           }
          ],
          "scattermapbox": [
           {
            "marker": {
             "colorbar": {
              "outlinewidth": 0,
              "ticks": ""
             }
            },
            "type": "scattermapbox"
           }
          ],
          "scatterpolar": [
           {
            "marker": {
             "colorbar": {
              "outlinewidth": 0,
              "ticks": ""
             }
            },
            "type": "scatterpolar"
           }
          ],
          "scatterpolargl": [
           {
            "marker": {
             "colorbar": {
              "outlinewidth": 0,
              "ticks": ""
             }
            },
            "type": "scatterpolargl"
           }
          ],
          "scatterternary": [
           {
            "marker": {
             "colorbar": {
              "outlinewidth": 0,
              "ticks": ""
             }
            },
            "type": "scatterternary"
           }
          ],
          "surface": [
           {
            "colorbar": {
             "outlinewidth": 0,
             "ticks": ""
            },
            "colorscale": [
             [
              0,
              "#0d0887"
             ],
             [
              0.1111111111111111,
              "#46039f"
             ],
             [
              0.2222222222222222,
              "#7201a8"
             ],
             [
              0.3333333333333333,
              "#9c179e"
             ],
             [
              0.4444444444444444,
              "#bd3786"
             ],
             [
              0.5555555555555556,
              "#d8576b"
             ],
             [
              0.6666666666666666,
              "#ed7953"
             ],
             [
              0.7777777777777778,
              "#fb9f3a"
             ],
             [
              0.8888888888888888,
              "#fdca26"
             ],
             [
              1,
              "#f0f921"
             ]
            ],
            "type": "surface"
           }
          ],
          "table": [
           {
            "cells": {
             "fill": {
              "color": "#EBF0F8"
             },
             "line": {
              "color": "white"
             }
            },
            "header": {
             "fill": {
              "color": "#C8D4E3"
             },
             "line": {
              "color": "white"
             }
            },
            "type": "table"
           }
          ]
         },
         "layout": {
          "annotationdefaults": {
           "arrowcolor": "#2a3f5f",
           "arrowhead": 0,
           "arrowwidth": 1
          },
          "coloraxis": {
           "colorbar": {
            "outlinewidth": 0,
            "ticks": ""
           }
          },
          "colorscale": {
           "diverging": [
            [
             0,
             "#8e0152"
            ],
            [
             0.1,
             "#c51b7d"
            ],
            [
             0.2,
             "#de77ae"
            ],
            [
             0.3,
             "#f1b6da"
            ],
            [
             0.4,
             "#fde0ef"
            ],
            [
             0.5,
             "#f7f7f7"
            ],
            [
             0.6,
             "#e6f5d0"
            ],
            [
             0.7,
             "#b8e186"
            ],
            [
             0.8,
             "#7fbc41"
            ],
            [
             0.9,
             "#4d9221"
            ],
            [
             1,
             "#276419"
            ]
           ],
           "sequential": [
            [
             0,
             "#0d0887"
            ],
            [
             0.1111111111111111,
             "#46039f"
            ],
            [
             0.2222222222222222,
             "#7201a8"
            ],
            [
             0.3333333333333333,
             "#9c179e"
            ],
            [
             0.4444444444444444,
             "#bd3786"
            ],
            [
             0.5555555555555556,
             "#d8576b"
            ],
            [
             0.6666666666666666,
             "#ed7953"
            ],
            [
             0.7777777777777778,
             "#fb9f3a"
            ],
            [
             0.8888888888888888,
             "#fdca26"
            ],
            [
             1,
             "#f0f921"
            ]
           ],
           "sequentialminus": [
            [
             0,
             "#0d0887"
            ],
            [
             0.1111111111111111,
             "#46039f"
            ],
            [
             0.2222222222222222,
             "#7201a8"
            ],
            [
             0.3333333333333333,
             "#9c179e"
            ],
            [
             0.4444444444444444,
             "#bd3786"
            ],
            [
             0.5555555555555556,
             "#d8576b"
            ],
            [
             0.6666666666666666,
             "#ed7953"
            ],
            [
             0.7777777777777778,
             "#fb9f3a"
            ],
            [
             0.8888888888888888,
             "#fdca26"
            ],
            [
             1,
             "#f0f921"
            ]
           ]
          },
          "colorway": [
           "#636efa",
           "#EF553B",
           "#00cc96",
           "#ab63fa",
           "#FFA15A",
           "#19d3f3",
           "#FF6692",
           "#B6E880",
           "#FF97FF",
           "#FECB52"
          ],
          "font": {
           "color": "#2a3f5f"
          },
          "geo": {
           "bgcolor": "white",
           "lakecolor": "white",
           "landcolor": "#E5ECF6",
           "showlakes": true,
           "showland": true,
           "subunitcolor": "white"
          },
          "hoverlabel": {
           "align": "left"
          },
          "hovermode": "closest",
          "mapbox": {
           "style": "light"
          },
          "paper_bgcolor": "white",
          "plot_bgcolor": "#E5ECF6",
          "polar": {
           "angularaxis": {
            "gridcolor": "white",
            "linecolor": "white",
            "ticks": ""
           },
           "bgcolor": "#E5ECF6",
           "radialaxis": {
            "gridcolor": "white",
            "linecolor": "white",
            "ticks": ""
           }
          },
          "scene": {
           "xaxis": {
            "backgroundcolor": "#E5ECF6",
            "gridcolor": "white",
            "gridwidth": 2,
            "linecolor": "white",
            "showbackground": true,
            "ticks": "",
            "zerolinecolor": "white"
           },
           "yaxis": {
            "backgroundcolor": "#E5ECF6",
            "gridcolor": "white",
            "gridwidth": 2,
            "linecolor": "white",
            "showbackground": true,
            "ticks": "",
            "zerolinecolor": "white"
           },
           "zaxis": {
            "backgroundcolor": "#E5ECF6",
            "gridcolor": "white",
            "gridwidth": 2,
            "linecolor": "white",
            "showbackground": true,
            "ticks": "",
            "zerolinecolor": "white"
           }
          },
          "shapedefaults": {
           "line": {
            "color": "#2a3f5f"
           }
          },
          "ternary": {
           "aaxis": {
            "gridcolor": "white",
            "linecolor": "white",
            "ticks": ""
           },
           "baxis": {
            "gridcolor": "white",
            "linecolor": "white",
            "ticks": ""
           },
           "bgcolor": "#E5ECF6",
           "caxis": {
            "gridcolor": "white",
            "linecolor": "white",
            "ticks": ""
           }
          },
          "title": {
           "x": 0.05
          },
          "xaxis": {
           "automargin": true,
           "gridcolor": "white",
           "linecolor": "white",
           "ticks": "",
           "title": {
            "standoff": 15
           },
           "zerolinecolor": "white",
           "zerolinewidth": 2
          },
          "yaxis": {
           "automargin": true,
           "gridcolor": "white",
           "linecolor": "white",
           "ticks": "",
           "title": {
            "standoff": 15
           },
           "zerolinecolor": "white",
           "zerolinewidth": 2
          }
         }
        },
        "xaxis": {
         "anchor": "y",
         "domain": [
          0,
          1
         ],
         "title": {
          "text": "variable"
         }
        },
        "yaxis": {
         "anchor": "x",
         "domain": [
          0,
          1
         ],
         "title": {
          "text": "value"
         }
        }
       }
      },
      "text/html": [
       "<div>                            <div id=\"f08b5f12-8dce-42f3-95dc-f6575fb7eaa9\" class=\"plotly-graph-div\" style=\"height:525px; width:100%;\"></div>            <script type=\"text/javascript\">                require([\"plotly\"], function(Plotly) {                    window.PLOTLYENV=window.PLOTLYENV || {};                                    if (document.getElementById(\"f08b5f12-8dce-42f3-95dc-f6575fb7eaa9\")) {                    Plotly.newPlot(                        \"f08b5f12-8dce-42f3-95dc-f6575fb7eaa9\",                        [{\"alignmentgroup\": \"True\", \"boxpoints\": \"all\", \"hovertemplate\": \"variable=%{x}<br>value=%{y}<extra></extra>\", \"legendgroup\": \"\", \"marker\": {\"color\": \"#636efa\"}, \"name\": \"\", \"notched\": false, \"offsetgroup\": \"\", \"orientation\": \"v\", \"showlegend\": false, \"type\": \"box\", \"x\": [\"doy\", \"doy\", \"doy\", \"doy\", \"doy\", \"doy\", \"doy\", \"doy\", \"x_ease\", \"x_ease\", \"x_ease\", \"x_ease\", \"x_ease\", \"x_ease\", \"x_ease\", \"x_ease\", \"y_ease\", \"y_ease\", \"y_ease\", \"y_ease\", \"y_ease\", \"y_ease\", \"y_ease\", \"y_ease\", \"u_buoy\", \"u_buoy\", \"u_buoy\", \"u_buoy\", \"u_buoy\", \"u_buoy\", \"u_buoy\", \"u_buoy\", \"v_buoy\", \"v_buoy\", \"v_buoy\", \"v_buoy\", \"v_buoy\", \"v_buoy\", \"v_buoy\", \"v_buoy\", \"u_era5\", \"u_era5\", \"u_era5\", \"u_era5\", \"u_era5\", \"u_era5\", \"u_era5\", \"u_era5\", \"v_era5\", \"v_era5\", \"v_era5\", \"v_era5\", \"v_era5\", \"v_era5\", \"v_era5\", \"v_era5\", \"sic_cdr\", \"sic_cdr\", \"sic_cdr\", \"sic_cdr\", \"sic_cdr\", \"sic_cdr\", \"sic_cdr\", \"sic_cdr\", \"h_cs2smos\", \"h_cs2smos\", \"h_cs2smos\", \"h_cs2smos\", \"h_cs2smos\", \"h_cs2smos\", \"h_cs2smos\", \"h_cs2smos\", \"h_piomas\", \"h_piomas\", \"h_piomas\", \"h_piomas\", \"h_piomas\", \"h_piomas\", \"h_piomas\", \"h_piomas\", \"d2c\", \"d2c\", \"d2c\", \"d2c\", \"d2c\", \"d2c\", \"d2c\", \"d2c\"], \"x0\": \" \", \"xaxis\": \"x\", \"y\": [0.0, 0.0, 0.0, 0.0, 1.0, 1.0, 1.0, 1.0, 0.33528573030052433, 0.3216813343499769, 0.0010676109325569172, 0.33564520357952743, 0.3345572101414631, 1.0, 0.32159455428864936, 0.0, 0.5224710663546137, 0.06340916353708392, 0.29490603893012723, 1.0, 0.5229067110011303, 0.0, 0.06340160564507746, 0.2948095304630489, 0.08712458893814876, 0.43115525608933414, 0.0, 0.49719511825071583, 0.36853146358485706, 0.6089481069336096, 1.0, 0.6141351306468316, 0.9139831389219907, 0.41557624619011313, 0.33203674113406184, 0.1864320541875698, 1.0, 0.0, 0.8883774581937126, 0.1417122247883028, 0.1843597542548514, 0.17441096978891668, 0.0, 0.6731499431942527, 0.5784875937830822, 0.9999999999999999, 0.8149680305621614, 0.6053641223516827, 0.14295174888043977, 0.07230245664700014, 0.43224107082412166, 0.0, 0.7152485553293033, 0.14801210421821545, 1.0, 0.4355977383488774, 0.7084230439726298, 0.0, 0.8817148864781466, 0.4849965920233572, 0.7115959634339326, 1.0, 0.9999993353226841, 0.3791102921066809, null, null, null, null, null, null, null, null, 0.5650879929860382, 0.007819315343226663, 0.0, 1.0000000000000002, 0.5641239375097291, 0.07904987768552174, 0.01284735575356688, 0.005058783213081286, 1.0, 0.31709012557958705, 0.004614742193710608, 0.11958815877285955, 0.9938527959985572, 0.7069103351615902, 0.3170506048697108, 0.0], \"y0\": \" \", \"yaxis\": \"y\"}],                        {\"boxmode\": \"group\", \"legend\": {\"tracegroupgap\": 0}, \"margin\": {\"t\": 60}, \"template\": {\"data\": {\"bar\": [{\"error_x\": {\"color\": \"#2a3f5f\"}, \"error_y\": {\"color\": \"#2a3f5f\"}, \"marker\": {\"line\": {\"color\": \"#E5ECF6\", \"width\": 0.5}}, \"type\": \"bar\"}], \"barpolar\": [{\"marker\": {\"line\": {\"color\": \"#E5ECF6\", \"width\": 0.5}}, \"type\": \"barpolar\"}], \"carpet\": [{\"aaxis\": {\"endlinecolor\": \"#2a3f5f\", \"gridcolor\": \"white\", \"linecolor\": \"white\", \"minorgridcolor\": \"white\", \"startlinecolor\": \"#2a3f5f\"}, \"baxis\": {\"endlinecolor\": \"#2a3f5f\", \"gridcolor\": \"white\", \"linecolor\": \"white\", \"minorgridcolor\": \"white\", \"startlinecolor\": \"#2a3f5f\"}, \"type\": \"carpet\"}], \"choropleth\": [{\"colorbar\": {\"outlinewidth\": 0, \"ticks\": \"\"}, \"type\": \"choropleth\"}], \"contour\": [{\"colorbar\": {\"outlinewidth\": 0, \"ticks\": \"\"}, \"colorscale\": [[0.0, \"#0d0887\"], [0.1111111111111111, \"#46039f\"], [0.2222222222222222, \"#7201a8\"], [0.3333333333333333, \"#9c179e\"], [0.4444444444444444, \"#bd3786\"], [0.5555555555555556, \"#d8576b\"], [0.6666666666666666, \"#ed7953\"], [0.7777777777777778, \"#fb9f3a\"], [0.8888888888888888, \"#fdca26\"], [1.0, \"#f0f921\"]], \"type\": \"contour\"}], \"contourcarpet\": [{\"colorbar\": {\"outlinewidth\": 0, \"ticks\": \"\"}, \"type\": \"contourcarpet\"}], \"heatmap\": [{\"colorbar\": {\"outlinewidth\": 0, \"ticks\": \"\"}, \"colorscale\": [[0.0, \"#0d0887\"], [0.1111111111111111, \"#46039f\"], [0.2222222222222222, \"#7201a8\"], [0.3333333333333333, \"#9c179e\"], [0.4444444444444444, \"#bd3786\"], [0.5555555555555556, \"#d8576b\"], [0.6666666666666666, \"#ed7953\"], [0.7777777777777778, \"#fb9f3a\"], [0.8888888888888888, \"#fdca26\"], [1.0, \"#f0f921\"]], \"type\": \"heatmap\"}], \"heatmapgl\": [{\"colorbar\": {\"outlinewidth\": 0, \"ticks\": \"\"}, \"colorscale\": [[0.0, \"#0d0887\"], [0.1111111111111111, \"#46039f\"], [0.2222222222222222, \"#7201a8\"], [0.3333333333333333, \"#9c179e\"], [0.4444444444444444, \"#bd3786\"], [0.5555555555555556, \"#d8576b\"], [0.6666666666666666, \"#ed7953\"], [0.7777777777777778, \"#fb9f3a\"], [0.8888888888888888, \"#fdca26\"], [1.0, \"#f0f921\"]], \"type\": \"heatmapgl\"}], \"histogram\": [{\"marker\": {\"colorbar\": {\"outlinewidth\": 0, \"ticks\": \"\"}}, \"type\": \"histogram\"}], \"histogram2d\": [{\"colorbar\": {\"outlinewidth\": 0, \"ticks\": \"\"}, \"colorscale\": [[0.0, \"#0d0887\"], [0.1111111111111111, \"#46039f\"], [0.2222222222222222, \"#7201a8\"], [0.3333333333333333, \"#9c179e\"], [0.4444444444444444, \"#bd3786\"], [0.5555555555555556, \"#d8576b\"], [0.6666666666666666, \"#ed7953\"], [0.7777777777777778, \"#fb9f3a\"], [0.8888888888888888, \"#fdca26\"], [1.0, \"#f0f921\"]], \"type\": \"histogram2d\"}], \"histogram2dcontour\": [{\"colorbar\": {\"outlinewidth\": 0, \"ticks\": \"\"}, \"colorscale\": [[0.0, \"#0d0887\"], [0.1111111111111111, \"#46039f\"], [0.2222222222222222, \"#7201a8\"], [0.3333333333333333, \"#9c179e\"], [0.4444444444444444, \"#bd3786\"], [0.5555555555555556, \"#d8576b\"], [0.6666666666666666, \"#ed7953\"], [0.7777777777777778, \"#fb9f3a\"], [0.8888888888888888, \"#fdca26\"], [1.0, \"#f0f921\"]], \"type\": \"histogram2dcontour\"}], \"mesh3d\": [{\"colorbar\": {\"outlinewidth\": 0, \"ticks\": \"\"}, \"type\": \"mesh3d\"}], \"parcoords\": [{\"line\": {\"colorbar\": {\"outlinewidth\": 0, \"ticks\": \"\"}}, \"type\": \"parcoords\"}], \"pie\": [{\"automargin\": true, \"type\": \"pie\"}], \"scatter\": [{\"marker\": {\"colorbar\": {\"outlinewidth\": 0, \"ticks\": \"\"}}, \"type\": \"scatter\"}], \"scatter3d\": [{\"line\": {\"colorbar\": {\"outlinewidth\": 0, \"ticks\": \"\"}}, \"marker\": {\"colorbar\": {\"outlinewidth\": 0, \"ticks\": \"\"}}, \"type\": \"scatter3d\"}], \"scattercarpet\": [{\"marker\": {\"colorbar\": {\"outlinewidth\": 0, \"ticks\": \"\"}}, \"type\": \"scattercarpet\"}], \"scattergeo\": [{\"marker\": {\"colorbar\": {\"outlinewidth\": 0, \"ticks\": \"\"}}, \"type\": \"scattergeo\"}], \"scattergl\": [{\"marker\": {\"colorbar\": {\"outlinewidth\": 0, \"ticks\": \"\"}}, \"type\": \"scattergl\"}], \"scattermapbox\": [{\"marker\": {\"colorbar\": {\"outlinewidth\": 0, \"ticks\": \"\"}}, \"type\": \"scattermapbox\"}], \"scatterpolar\": [{\"marker\": {\"colorbar\": {\"outlinewidth\": 0, \"ticks\": \"\"}}, \"type\": \"scatterpolar\"}], \"scatterpolargl\": [{\"marker\": {\"colorbar\": {\"outlinewidth\": 0, \"ticks\": \"\"}}, \"type\": \"scatterpolargl\"}], \"scatterternary\": [{\"marker\": {\"colorbar\": {\"outlinewidth\": 0, \"ticks\": \"\"}}, \"type\": \"scatterternary\"}], \"surface\": [{\"colorbar\": {\"outlinewidth\": 0, \"ticks\": \"\"}, \"colorscale\": [[0.0, \"#0d0887\"], [0.1111111111111111, \"#46039f\"], [0.2222222222222222, \"#7201a8\"], [0.3333333333333333, \"#9c179e\"], [0.4444444444444444, \"#bd3786\"], [0.5555555555555556, \"#d8576b\"], [0.6666666666666666, \"#ed7953\"], [0.7777777777777778, \"#fb9f3a\"], [0.8888888888888888, \"#fdca26\"], [1.0, \"#f0f921\"]], \"type\": \"surface\"}], \"table\": [{\"cells\": {\"fill\": {\"color\": \"#EBF0F8\"}, \"line\": {\"color\": \"white\"}}, \"header\": {\"fill\": {\"color\": \"#C8D4E3\"}, \"line\": {\"color\": \"white\"}}, \"type\": \"table\"}]}, \"layout\": {\"annotationdefaults\": {\"arrowcolor\": \"#2a3f5f\", \"arrowhead\": 0, \"arrowwidth\": 1}, \"coloraxis\": {\"colorbar\": {\"outlinewidth\": 0, \"ticks\": \"\"}}, \"colorscale\": {\"diverging\": [[0, \"#8e0152\"], [0.1, \"#c51b7d\"], [0.2, \"#de77ae\"], [0.3, \"#f1b6da\"], [0.4, \"#fde0ef\"], [0.5, \"#f7f7f7\"], [0.6, \"#e6f5d0\"], [0.7, \"#b8e186\"], [0.8, \"#7fbc41\"], [0.9, \"#4d9221\"], [1, \"#276419\"]], \"sequential\": [[0.0, \"#0d0887\"], [0.1111111111111111, \"#46039f\"], [0.2222222222222222, \"#7201a8\"], [0.3333333333333333, \"#9c179e\"], [0.4444444444444444, \"#bd3786\"], [0.5555555555555556, \"#d8576b\"], [0.6666666666666666, \"#ed7953\"], [0.7777777777777778, \"#fb9f3a\"], [0.8888888888888888, \"#fdca26\"], [1.0, \"#f0f921\"]], \"sequentialminus\": [[0.0, \"#0d0887\"], [0.1111111111111111, \"#46039f\"], [0.2222222222222222, \"#7201a8\"], [0.3333333333333333, \"#9c179e\"], [0.4444444444444444, \"#bd3786\"], [0.5555555555555556, \"#d8576b\"], [0.6666666666666666, \"#ed7953\"], [0.7777777777777778, \"#fb9f3a\"], [0.8888888888888888, \"#fdca26\"], [1.0, \"#f0f921\"]]}, \"colorway\": [\"#636efa\", \"#EF553B\", \"#00cc96\", \"#ab63fa\", \"#FFA15A\", \"#19d3f3\", \"#FF6692\", \"#B6E880\", \"#FF97FF\", \"#FECB52\"], \"font\": {\"color\": \"#2a3f5f\"}, \"geo\": {\"bgcolor\": \"white\", \"lakecolor\": \"white\", \"landcolor\": \"#E5ECF6\", \"showlakes\": true, \"showland\": true, \"subunitcolor\": \"white\"}, \"hoverlabel\": {\"align\": \"left\"}, \"hovermode\": \"closest\", \"mapbox\": {\"style\": \"light\"}, \"paper_bgcolor\": \"white\", \"plot_bgcolor\": \"#E5ECF6\", \"polar\": {\"angularaxis\": {\"gridcolor\": \"white\", \"linecolor\": \"white\", \"ticks\": \"\"}, \"bgcolor\": \"#E5ECF6\", \"radialaxis\": {\"gridcolor\": \"white\", \"linecolor\": \"white\", \"ticks\": \"\"}}, \"scene\": {\"xaxis\": {\"backgroundcolor\": \"#E5ECF6\", \"gridcolor\": \"white\", \"gridwidth\": 2, \"linecolor\": \"white\", \"showbackground\": true, \"ticks\": \"\", \"zerolinecolor\": \"white\"}, \"yaxis\": {\"backgroundcolor\": \"#E5ECF6\", \"gridcolor\": \"white\", \"gridwidth\": 2, \"linecolor\": \"white\", \"showbackground\": true, \"ticks\": \"\", \"zerolinecolor\": \"white\"}, \"zaxis\": {\"backgroundcolor\": \"#E5ECF6\", \"gridcolor\": \"white\", \"gridwidth\": 2, \"linecolor\": \"white\", \"showbackground\": true, \"ticks\": \"\", \"zerolinecolor\": \"white\"}}, \"shapedefaults\": {\"line\": {\"color\": \"#2a3f5f\"}}, \"ternary\": {\"aaxis\": {\"gridcolor\": \"white\", \"linecolor\": \"white\", \"ticks\": \"\"}, \"baxis\": {\"gridcolor\": \"white\", \"linecolor\": \"white\", \"ticks\": \"\"}, \"bgcolor\": \"#E5ECF6\", \"caxis\": {\"gridcolor\": \"white\", \"linecolor\": \"white\", \"ticks\": \"\"}}, \"title\": {\"x\": 0.05}, \"xaxis\": {\"automargin\": true, \"gridcolor\": \"white\", \"linecolor\": \"white\", \"ticks\": \"\", \"title\": {\"standoff\": 15}, \"zerolinecolor\": \"white\", \"zerolinewidth\": 2}, \"yaxis\": {\"automargin\": true, \"gridcolor\": \"white\", \"linecolor\": \"white\", \"ticks\": \"\", \"title\": {\"standoff\": 15}, \"zerolinecolor\": \"white\", \"zerolinewidth\": 2}}}, \"xaxis\": {\"anchor\": \"y\", \"domain\": [0.0, 1.0], \"title\": {\"text\": \"variable\"}}, \"yaxis\": {\"anchor\": \"x\", \"domain\": [0.0, 1.0], \"title\": {\"text\": \"value\"}}},                        {\"responsive\": true}                    ).then(function(){\n",
       "                            \n",
       "var gd = document.getElementById('f08b5f12-8dce-42f3-95dc-f6575fb7eaa9');\n",
       "var x = new MutationObserver(function (mutations, observer) {{\n",
       "        var display = window.getComputedStyle(gd).display;\n",
       "        if (!display || display === 'none') {{\n",
       "            console.log([gd, 'removed!']);\n",
       "            Plotly.purge(gd);\n",
       "            observer.disconnect();\n",
       "        }}\n",
       "}});\n",
       "\n",
       "// Listen for the removal of the full notebook cells\n",
       "var notebookContainer = gd.closest('#notebook-container');\n",
       "if (notebookContainer) {{\n",
       "    x.observe(notebookContainer, {childList: true});\n",
       "}}\n",
       "\n",
       "// Listen for the clearing of the current output cell\n",
       "var outputEl = gd.closest('.output');\n",
       "if (outputEl) {{\n",
       "    x.observe(outputEl, {childList: true});\n",
       "}}\n",
       "\n",
       "                        })                };                });            </script>        </div>"
      ]
     },
     "metadata": {},
     "output_type": "display_data"
    },
    {
     "data": {
      "text/plain": [
       "'\\nfig = go.Figure()\\n\\nfor idx, value in enumerate(columns_normalized):\\n     fig.add_trace(go.Box(x=[]*len(value), y=value, name=color, marker=dict(color=color.lower())))\\n    \\nfig.update_layout(yaxis_title=\"Mean value\", xaxis_title=\"Color channel\",\\n                  title=\"Mean value vs. Color channel\", template=\"plotly_white\")\\n'"
      ]
     },
     "execution_count": 13,
     "metadata": {},
     "output_type": "execute_result"
    }
   ],
   "source": [
    "# Box plots \n",
    "\n",
    "import plotly.express as px\n",
    "\n",
    "fig = px.box(df[columns_normalized], points=\"all\")\n",
    "fig.show()\n",
    "\n",
    "\"\"\"\n",
    "fig = go.Figure()\n",
    "\n",
    "for idx, value in enumerate(columns_normalized):\n",
    "     fig.add_trace(go.Box(x=[]*len(value), y=value, name=color, marker=dict(color=color.lower())))\n",
    "    \n",
    "fig.update_layout(yaxis_title=\"Mean value\", xaxis_title=\"Color channel\",\n",
    "                  title=\"Mean value vs. Color channel\", template=\"plotly_white\")\n",
    "\"\"\""
   ]
  },
  {
   "cell_type": "markdown",
   "metadata": {},
   "source": [
    "Create a correlation map to visualize any important correlations between the variables. \n",
    "\"Correlation is defined as the strength of the linear relationship between two variables. A correlation coefficient closer to r=1 indicates that when one variable changes, the other variable changes in the same direction (positive or negative) by the same amount. A similar idea applies as the correlation coefficient approaches r=-1, but in this case, the variables have a nearly perfect inverse correlation, meaning that a change in one variable elicits an opposite change in the other variable.\"  https://medium.com/blockforce-capital/seeing-in-the-dark-creating-crypto-heat-map-correlations-with-plot-ly-7154cf362f92"
   ]
  },
  {
   "cell_type": "code",
   "execution_count": 8,
   "metadata": {},
   "outputs": [
    {
     "data": {
      "application/vnd.plotly.v1+json": {
       "config": {
        "plotlyServerURL": "https://plot.ly"
       },
       "data": [
        {
         "colorscale": [
          [
           0,
           "rgb(255,255,229)"
          ],
          [
           0.125,
           "rgb(247,252,185)"
          ],
          [
           0.25,
           "rgb(217,240,163)"
          ],
          [
           0.375,
           "rgb(173,221,142)"
          ],
          [
           0.5,
           "rgb(120,198,121)"
          ],
          [
           0.625,
           "rgb(65,171,93)"
          ],
          [
           0.75,
           "rgb(35,132,67)"
          ],
          [
           0.875,
           "rgb(0,104,55)"
          ],
          [
           1,
           "rgb(0,69,41)"
          ]
         ],
         "type": "heatmap",
         "x": [
          "doy",
          "x_ease",
          "y_ease",
          "u_buoy",
          "v_buoy",
          "u_era5",
          "v_era5",
          "sic_cdr",
          "h_cs2smos",
          "h_piomas",
          "d2c"
         ],
         "y": [
          "doy",
          "x_ease",
          "y_ease",
          "u_buoy",
          "v_buoy",
          "u_era5",
          "v_era5",
          "sic_cdr",
          "h_cs2smos",
          "h_piomas",
          "d2c"
         ],
         "z": [
          [
           1,
           0.28695814734319447,
           -0.4015242014872847,
           0.6669479123326878,
           0.06186998355550474,
           0.7534003514326078,
           0.6330440976373342,
           0.39438891582911506,
           null,
           -0.3191684487692225,
           0.1855172342388625
          ],
          [
           0.28695814734319447,
           1,
           -0.2616093681981341,
           0.2842558394360328,
           -0.1898693365114931,
           0.6164019292988908,
           -0.259531575900811,
           0.3362157131015709,
           null,
           0.07226660438688251,
           0.5274919582030849
          ],
          [
           -0.4015242014872847,
           -0.2616093681981341,
           1,
           -0.32372815457708654,
           0.07683969346212037,
           -0.09649583239196674,
           -0.3013229484698985,
           -0.15102526159429874,
           null,
           0.9242804021983483,
           0.009414683134407216
          ],
          [
           0.6669479123326878,
           0.2842558394360328,
           -0.32372815457708654,
           1,
           -0.06114273424565804,
           0.8005984869635783,
           0.43654683113054366,
           0.10210794899682414,
           null,
           -0.21978849915459706,
           -0.17709867657305486
          ],
          [
           0.06186998355550474,
           -0.1898693365114931,
           0.07683969346212037,
           -0.06114273424565804,
           1,
           -0.20744366924216034,
           0.5641220428923137,
           0.19019314665098724,
           null,
           0.1898066639106069,
           0.584598374246036
          ],
          [
           0.7534003514326078,
           0.6164019292988908,
           -0.09649583239196674,
           0.8005984869635783,
           -0.20744366924216034,
           1,
           0.22895313732027003,
           0.3694088167064544,
           null,
           0.07726695901917814,
           0.11590860969464019
          ],
          [
           0.6330440976373342,
           -0.259531575900811,
           -0.3013229484698985,
           0.43654683113054366,
           0.5641220428923137,
           0.22895313732027003,
           1,
           0.47870921925988846,
           null,
           -0.33404015652400376,
           0.026089823874584975
          ],
          [
           0.39438891582911506,
           0.3362157131015709,
           -0.15102526159429874,
           0.10210794899682414,
           0.19019314665098724,
           0.3694088167064544,
           0.47870921925988846,
           1,
           null,
           -0.06741281272759851,
           0.26794716388052364
          ],
          [
           null,
           null,
           null,
           null,
           null,
           null,
           null,
           null,
           null,
           null,
           null
          ],
          [
           -0.3191684487692225,
           0.07226660438688251,
           0.9242804021983483,
           -0.21978849915459706,
           0.1898066639106069,
           0.07726695901917814,
           -0.33404015652400376,
           -0.06741281272759851,
           null,
           1,
           0.30800601925658705
          ],
          [
           0.1855172342388625,
           0.5274919582030849,
           0.009414683134407216,
           -0.17709867657305486,
           0.584598374246036,
           0.11590860969464019,
           0.026089823874584975,
           0.26794716388052364,
           null,
           0.30800601925658705,
           1
          ]
         ]
        }
       ],
       "layout": {
        "template": {
         "data": {
          "bar": [
           {
            "error_x": {
             "color": "#2a3f5f"
            },
            "error_y": {
             "color": "#2a3f5f"
            },
            "marker": {
             "line": {
              "color": "#E5ECF6",
              "width": 0.5
             }
            },
            "type": "bar"
           }
          ],
          "barpolar": [
           {
            "marker": {
             "line": {
              "color": "#E5ECF6",
              "width": 0.5
             }
            },
            "type": "barpolar"
           }
          ],
          "carpet": [
           {
            "aaxis": {
             "endlinecolor": "#2a3f5f",
             "gridcolor": "white",
             "linecolor": "white",
             "minorgridcolor": "white",
             "startlinecolor": "#2a3f5f"
            },
            "baxis": {
             "endlinecolor": "#2a3f5f",
             "gridcolor": "white",
             "linecolor": "white",
             "minorgridcolor": "white",
             "startlinecolor": "#2a3f5f"
            },
            "type": "carpet"
           }
          ],
          "choropleth": [
           {
            "colorbar": {
             "outlinewidth": 0,
             "ticks": ""
            },
            "type": "choropleth"
           }
          ],
          "contour": [
           {
            "colorbar": {
             "outlinewidth": 0,
             "ticks": ""
            },
            "colorscale": [
             [
              0,
              "#0d0887"
             ],
             [
              0.1111111111111111,
              "#46039f"
             ],
             [
              0.2222222222222222,
              "#7201a8"
             ],
             [
              0.3333333333333333,
              "#9c179e"
             ],
             [
              0.4444444444444444,
              "#bd3786"
             ],
             [
              0.5555555555555556,
              "#d8576b"
             ],
             [
              0.6666666666666666,
              "#ed7953"
             ],
             [
              0.7777777777777778,
              "#fb9f3a"
             ],
             [
              0.8888888888888888,
              "#fdca26"
             ],
             [
              1,
              "#f0f921"
             ]
            ],
            "type": "contour"
           }
          ],
          "contourcarpet": [
           {
            "colorbar": {
             "outlinewidth": 0,
             "ticks": ""
            },
            "type": "contourcarpet"
           }
          ],
          "heatmap": [
           {
            "colorbar": {
             "outlinewidth": 0,
             "ticks": ""
            },
            "colorscale": [
             [
              0,
              "#0d0887"
             ],
             [
              0.1111111111111111,
              "#46039f"
             ],
             [
              0.2222222222222222,
              "#7201a8"
             ],
             [
              0.3333333333333333,
              "#9c179e"
             ],
             [
              0.4444444444444444,
              "#bd3786"
             ],
             [
              0.5555555555555556,
              "#d8576b"
             ],
             [
              0.6666666666666666,
              "#ed7953"
             ],
             [
              0.7777777777777778,
              "#fb9f3a"
             ],
             [
              0.8888888888888888,
              "#fdca26"
             ],
             [
              1,
              "#f0f921"
             ]
            ],
            "type": "heatmap"
           }
          ],
          "heatmapgl": [
           {
            "colorbar": {
             "outlinewidth": 0,
             "ticks": ""
            },
            "colorscale": [
             [
              0,
              "#0d0887"
             ],
             [
              0.1111111111111111,
              "#46039f"
             ],
             [
              0.2222222222222222,
              "#7201a8"
             ],
             [
              0.3333333333333333,
              "#9c179e"
             ],
             [
              0.4444444444444444,
              "#bd3786"
             ],
             [
              0.5555555555555556,
              "#d8576b"
             ],
             [
              0.6666666666666666,
              "#ed7953"
             ],
             [
              0.7777777777777778,
              "#fb9f3a"
             ],
             [
              0.8888888888888888,
              "#fdca26"
             ],
             [
              1,
              "#f0f921"
             ]
            ],
            "type": "heatmapgl"
           }
          ],
          "histogram": [
           {
            "marker": {
             "colorbar": {
              "outlinewidth": 0,
              "ticks": ""
             }
            },
            "type": "histogram"
           }
          ],
          "histogram2d": [
           {
            "colorbar": {
             "outlinewidth": 0,
             "ticks": ""
            },
            "colorscale": [
             [
              0,
              "#0d0887"
             ],
             [
              0.1111111111111111,
              "#46039f"
             ],
             [
              0.2222222222222222,
              "#7201a8"
             ],
             [
              0.3333333333333333,
              "#9c179e"
             ],
             [
              0.4444444444444444,
              "#bd3786"
             ],
             [
              0.5555555555555556,
              "#d8576b"
             ],
             [
              0.6666666666666666,
              "#ed7953"
             ],
             [
              0.7777777777777778,
              "#fb9f3a"
             ],
             [
              0.8888888888888888,
              "#fdca26"
             ],
             [
              1,
              "#f0f921"
             ]
            ],
            "type": "histogram2d"
           }
          ],
          "histogram2dcontour": [
           {
            "colorbar": {
             "outlinewidth": 0,
             "ticks": ""
            },
            "colorscale": [
             [
              0,
              "#0d0887"
             ],
             [
              0.1111111111111111,
              "#46039f"
             ],
             [
              0.2222222222222222,
              "#7201a8"
             ],
             [
              0.3333333333333333,
              "#9c179e"
             ],
             [
              0.4444444444444444,
              "#bd3786"
             ],
             [
              0.5555555555555556,
              "#d8576b"
             ],
             [
              0.6666666666666666,
              "#ed7953"
             ],
             [
              0.7777777777777778,
              "#fb9f3a"
             ],
             [
              0.8888888888888888,
              "#fdca26"
             ],
             [
              1,
              "#f0f921"
             ]
            ],
            "type": "histogram2dcontour"
           }
          ],
          "mesh3d": [
           {
            "colorbar": {
             "outlinewidth": 0,
             "ticks": ""
            },
            "type": "mesh3d"
           }
          ],
          "parcoords": [
           {
            "line": {
             "colorbar": {
              "outlinewidth": 0,
              "ticks": ""
             }
            },
            "type": "parcoords"
           }
          ],
          "pie": [
           {
            "automargin": true,
            "type": "pie"
           }
          ],
          "scatter": [
           {
            "marker": {
             "colorbar": {
              "outlinewidth": 0,
              "ticks": ""
             }
            },
            "type": "scatter"
           }
          ],
          "scatter3d": [
           {
            "line": {
             "colorbar": {
              "outlinewidth": 0,
              "ticks": ""
             }
            },
            "marker": {
             "colorbar": {
              "outlinewidth": 0,
              "ticks": ""
             }
            },
            "type": "scatter3d"
           }
          ],
          "scattercarpet": [
           {
            "marker": {
             "colorbar": {
              "outlinewidth": 0,
              "ticks": ""
             }
            },
            "type": "scattercarpet"
           }
          ],
          "scattergeo": [
           {
            "marker": {
             "colorbar": {
              "outlinewidth": 0,
              "ticks": ""
             }
            },
            "type": "scattergeo"
           }
          ],
          "scattergl": [
           {
            "marker": {
             "colorbar": {
              "outlinewidth": 0,
              "ticks": ""
             }
            },
            "type": "scattergl"
           }
          ],
          "scattermapbox": [
           {
            "marker": {
             "colorbar": {
              "outlinewidth": 0,
              "ticks": ""
             }
            },
            "type": "scattermapbox"
           }
          ],
          "scatterpolar": [
           {
            "marker": {
             "colorbar": {
              "outlinewidth": 0,
              "ticks": ""
             }
            },
            "type": "scatterpolar"
           }
          ],
          "scatterpolargl": [
           {
            "marker": {
             "colorbar": {
              "outlinewidth": 0,
              "ticks": ""
             }
            },
            "type": "scatterpolargl"
           }
          ],
          "scatterternary": [
           {
            "marker": {
             "colorbar": {
              "outlinewidth": 0,
              "ticks": ""
             }
            },
            "type": "scatterternary"
           }
          ],
          "surface": [
           {
            "colorbar": {
             "outlinewidth": 0,
             "ticks": ""
            },
            "colorscale": [
             [
              0,
              "#0d0887"
             ],
             [
              0.1111111111111111,
              "#46039f"
             ],
             [
              0.2222222222222222,
              "#7201a8"
             ],
             [
              0.3333333333333333,
              "#9c179e"
             ],
             [
              0.4444444444444444,
              "#bd3786"
             ],
             [
              0.5555555555555556,
              "#d8576b"
             ],
             [
              0.6666666666666666,
              "#ed7953"
             ],
             [
              0.7777777777777778,
              "#fb9f3a"
             ],
             [
              0.8888888888888888,
              "#fdca26"
             ],
             [
              1,
              "#f0f921"
             ]
            ],
            "type": "surface"
           }
          ],
          "table": [
           {
            "cells": {
             "fill": {
              "color": "#EBF0F8"
             },
             "line": {
              "color": "white"
             }
            },
            "header": {
             "fill": {
              "color": "#C8D4E3"
             },
             "line": {
              "color": "white"
             }
            },
            "type": "table"
           }
          ]
         },
         "layout": {
          "annotationdefaults": {
           "arrowcolor": "#2a3f5f",
           "arrowhead": 0,
           "arrowwidth": 1
          },
          "coloraxis": {
           "colorbar": {
            "outlinewidth": 0,
            "ticks": ""
           }
          },
          "colorscale": {
           "diverging": [
            [
             0,
             "#8e0152"
            ],
            [
             0.1,
             "#c51b7d"
            ],
            [
             0.2,
             "#de77ae"
            ],
            [
             0.3,
             "#f1b6da"
            ],
            [
             0.4,
             "#fde0ef"
            ],
            [
             0.5,
             "#f7f7f7"
            ],
            [
             0.6,
             "#e6f5d0"
            ],
            [
             0.7,
             "#b8e186"
            ],
            [
             0.8,
             "#7fbc41"
            ],
            [
             0.9,
             "#4d9221"
            ],
            [
             1,
             "#276419"
            ]
           ],
           "sequential": [
            [
             0,
             "#0d0887"
            ],
            [
             0.1111111111111111,
             "#46039f"
            ],
            [
             0.2222222222222222,
             "#7201a8"
            ],
            [
             0.3333333333333333,
             "#9c179e"
            ],
            [
             0.4444444444444444,
             "#bd3786"
            ],
            [
             0.5555555555555556,
             "#d8576b"
            ],
            [
             0.6666666666666666,
             "#ed7953"
            ],
            [
             0.7777777777777778,
             "#fb9f3a"
            ],
            [
             0.8888888888888888,
             "#fdca26"
            ],
            [
             1,
             "#f0f921"
            ]
           ],
           "sequentialminus": [
            [
             0,
             "#0d0887"
            ],
            [
             0.1111111111111111,
             "#46039f"
            ],
            [
             0.2222222222222222,
             "#7201a8"
            ],
            [
             0.3333333333333333,
             "#9c179e"
            ],
            [
             0.4444444444444444,
             "#bd3786"
            ],
            [
             0.5555555555555556,
             "#d8576b"
            ],
            [
             0.6666666666666666,
             "#ed7953"
            ],
            [
             0.7777777777777778,
             "#fb9f3a"
            ],
            [
             0.8888888888888888,
             "#fdca26"
            ],
            [
             1,
             "#f0f921"
            ]
           ]
          },
          "colorway": [
           "#636efa",
           "#EF553B",
           "#00cc96",
           "#ab63fa",
           "#FFA15A",
           "#19d3f3",
           "#FF6692",
           "#B6E880",
           "#FF97FF",
           "#FECB52"
          ],
          "font": {
           "color": "#2a3f5f"
          },
          "geo": {
           "bgcolor": "white",
           "lakecolor": "white",
           "landcolor": "#E5ECF6",
           "showlakes": true,
           "showland": true,
           "subunitcolor": "white"
          },
          "hoverlabel": {
           "align": "left"
          },
          "hovermode": "closest",
          "mapbox": {
           "style": "light"
          },
          "paper_bgcolor": "white",
          "plot_bgcolor": "#E5ECF6",
          "polar": {
           "angularaxis": {
            "gridcolor": "white",
            "linecolor": "white",
            "ticks": ""
           },
           "bgcolor": "#E5ECF6",
           "radialaxis": {
            "gridcolor": "white",
            "linecolor": "white",
            "ticks": ""
           }
          },
          "scene": {
           "xaxis": {
            "backgroundcolor": "#E5ECF6",
            "gridcolor": "white",
            "gridwidth": 2,
            "linecolor": "white",
            "showbackground": true,
            "ticks": "",
            "zerolinecolor": "white"
           },
           "yaxis": {
            "backgroundcolor": "#E5ECF6",
            "gridcolor": "white",
            "gridwidth": 2,
            "linecolor": "white",
            "showbackground": true,
            "ticks": "",
            "zerolinecolor": "white"
           },
           "zaxis": {
            "backgroundcolor": "#E5ECF6",
            "gridcolor": "white",
            "gridwidth": 2,
            "linecolor": "white",
            "showbackground": true,
            "ticks": "",
            "zerolinecolor": "white"
           }
          },
          "shapedefaults": {
           "line": {
            "color": "#2a3f5f"
           }
          },
          "ternary": {
           "aaxis": {
            "gridcolor": "white",
            "linecolor": "white",
            "ticks": ""
           },
           "baxis": {
            "gridcolor": "white",
            "linecolor": "white",
            "ticks": ""
           },
           "bgcolor": "#E5ECF6",
           "caxis": {
            "gridcolor": "white",
            "linecolor": "white",
            "ticks": ""
           }
          },
          "title": {
           "x": 0.05
          },
          "xaxis": {
           "automargin": true,
           "gridcolor": "white",
           "linecolor": "white",
           "ticks": "",
           "title": {
            "standoff": 15
           },
           "zerolinecolor": "white",
           "zerolinewidth": 2
          },
          "yaxis": {
           "automargin": true,
           "gridcolor": "white",
           "linecolor": "white",
           "ticks": "",
           "title": {
            "standoff": 15
           },
           "zerolinecolor": "white",
           "zerolinewidth": 2
          }
         }
        },
        "title": {
         "text": "Sea Ice Data Correlation Map"
        }
       }
      },
      "text/html": [
       "<div>                            <div id=\"014732ee-1368-424b-a4a4-427ad74c47ae\" class=\"plotly-graph-div\" style=\"height:525px; width:100%;\"></div>            <script type=\"text/javascript\">                require([\"plotly\"], function(Plotly) {                    window.PLOTLYENV=window.PLOTLYENV || {};                                    if (document.getElementById(\"014732ee-1368-424b-a4a4-427ad74c47ae\")) {                    Plotly.newPlot(                        \"014732ee-1368-424b-a4a4-427ad74c47ae\",                        [{\"colorscale\": [[0.0, \"rgb(255,255,229)\"], [0.125, \"rgb(247,252,185)\"], [0.25, \"rgb(217,240,163)\"], [0.375, \"rgb(173,221,142)\"], [0.5, \"rgb(120,198,121)\"], [0.625, \"rgb(65,171,93)\"], [0.75, \"rgb(35,132,67)\"], [0.875, \"rgb(0,104,55)\"], [1.0, \"rgb(0,69,41)\"]], \"type\": \"heatmap\", \"x\": [\"doy\", \"x_ease\", \"y_ease\", \"u_buoy\", \"v_buoy\", \"u_era5\", \"v_era5\", \"sic_cdr\", \"h_cs2smos\", \"h_piomas\", \"d2c\"], \"y\": [\"doy\", \"x_ease\", \"y_ease\", \"u_buoy\", \"v_buoy\", \"u_era5\", \"v_era5\", \"sic_cdr\", \"h_cs2smos\", \"h_piomas\", \"d2c\"], \"z\": [[1.0, 0.28695814734319447, -0.4015242014872847, 0.6669479123326878, 0.06186998355550474, 0.7534003514326078, 0.6330440976373342, 0.39438891582911506, null, -0.3191684487692225, 0.1855172342388625], [0.28695814734319447, 1.0, -0.2616093681981341, 0.2842558394360328, -0.1898693365114931, 0.6164019292988908, -0.259531575900811, 0.3362157131015709, null, 0.07226660438688251, 0.5274919582030849], [-0.4015242014872847, -0.2616093681981341, 1.0, -0.32372815457708654, 0.07683969346212037, -0.09649583239196674, -0.3013229484698985, -0.15102526159429874, null, 0.9242804021983483, 0.009414683134407216], [0.6669479123326878, 0.2842558394360328, -0.32372815457708654, 1.0, -0.06114273424565804, 0.8005984869635783, 0.43654683113054366, 0.10210794899682414, null, -0.21978849915459706, -0.17709867657305486], [0.06186998355550474, -0.1898693365114931, 0.07683969346212037, -0.06114273424565804, 1.0, -0.20744366924216034, 0.5641220428923137, 0.19019314665098724, null, 0.1898066639106069, 0.584598374246036], [0.7534003514326078, 0.6164019292988908, -0.09649583239196674, 0.8005984869635783, -0.20744366924216034, 1.0, 0.22895313732027003, 0.3694088167064544, null, 0.07726695901917814, 0.11590860969464019], [0.6330440976373342, -0.259531575900811, -0.3013229484698985, 0.43654683113054366, 0.5641220428923137, 0.22895313732027003, 1.0, 0.47870921925988846, null, -0.33404015652400376, 0.026089823874584975], [0.39438891582911506, 0.3362157131015709, -0.15102526159429874, 0.10210794899682414, 0.19019314665098724, 0.3694088167064544, 0.47870921925988846, 1.0, null, -0.06741281272759851, 0.26794716388052364], [null, null, null, null, null, null, null, null, null, null, null], [-0.3191684487692225, 0.07226660438688251, 0.9242804021983483, -0.21978849915459706, 0.1898066639106069, 0.07726695901917814, -0.33404015652400376, -0.06741281272759851, null, 1.0, 0.30800601925658705], [0.1855172342388625, 0.5274919582030849, 0.009414683134407216, -0.17709867657305486, 0.584598374246036, 0.11590860969464019, 0.026089823874584975, 0.26794716388052364, null, 0.30800601925658705, 1.0]]}],                        {\"template\": {\"data\": {\"bar\": [{\"error_x\": {\"color\": \"#2a3f5f\"}, \"error_y\": {\"color\": \"#2a3f5f\"}, \"marker\": {\"line\": {\"color\": \"#E5ECF6\", \"width\": 0.5}}, \"type\": \"bar\"}], \"barpolar\": [{\"marker\": {\"line\": {\"color\": \"#E5ECF6\", \"width\": 0.5}}, \"type\": \"barpolar\"}], \"carpet\": [{\"aaxis\": {\"endlinecolor\": \"#2a3f5f\", \"gridcolor\": \"white\", \"linecolor\": \"white\", \"minorgridcolor\": \"white\", \"startlinecolor\": \"#2a3f5f\"}, \"baxis\": {\"endlinecolor\": \"#2a3f5f\", \"gridcolor\": \"white\", \"linecolor\": \"white\", \"minorgridcolor\": \"white\", \"startlinecolor\": \"#2a3f5f\"}, \"type\": \"carpet\"}], \"choropleth\": [{\"colorbar\": {\"outlinewidth\": 0, \"ticks\": \"\"}, \"type\": \"choropleth\"}], \"contour\": [{\"colorbar\": {\"outlinewidth\": 0, \"ticks\": \"\"}, \"colorscale\": [[0.0, \"#0d0887\"], [0.1111111111111111, \"#46039f\"], [0.2222222222222222, \"#7201a8\"], [0.3333333333333333, \"#9c179e\"], [0.4444444444444444, \"#bd3786\"], [0.5555555555555556, \"#d8576b\"], [0.6666666666666666, \"#ed7953\"], [0.7777777777777778, \"#fb9f3a\"], [0.8888888888888888, \"#fdca26\"], [1.0, \"#f0f921\"]], \"type\": \"contour\"}], \"contourcarpet\": [{\"colorbar\": {\"outlinewidth\": 0, \"ticks\": \"\"}, \"type\": \"contourcarpet\"}], \"heatmap\": [{\"colorbar\": {\"outlinewidth\": 0, \"ticks\": \"\"}, \"colorscale\": [[0.0, \"#0d0887\"], [0.1111111111111111, \"#46039f\"], [0.2222222222222222, \"#7201a8\"], [0.3333333333333333, \"#9c179e\"], [0.4444444444444444, \"#bd3786\"], [0.5555555555555556, \"#d8576b\"], [0.6666666666666666, \"#ed7953\"], [0.7777777777777778, \"#fb9f3a\"], [0.8888888888888888, \"#fdca26\"], [1.0, \"#f0f921\"]], \"type\": \"heatmap\"}], \"heatmapgl\": [{\"colorbar\": {\"outlinewidth\": 0, \"ticks\": \"\"}, \"colorscale\": [[0.0, \"#0d0887\"], [0.1111111111111111, \"#46039f\"], [0.2222222222222222, \"#7201a8\"], [0.3333333333333333, \"#9c179e\"], [0.4444444444444444, \"#bd3786\"], [0.5555555555555556, \"#d8576b\"], [0.6666666666666666, \"#ed7953\"], [0.7777777777777778, \"#fb9f3a\"], [0.8888888888888888, \"#fdca26\"], [1.0, \"#f0f921\"]], \"type\": \"heatmapgl\"}], \"histogram\": [{\"marker\": {\"colorbar\": {\"outlinewidth\": 0, \"ticks\": \"\"}}, \"type\": \"histogram\"}], \"histogram2d\": [{\"colorbar\": {\"outlinewidth\": 0, \"ticks\": \"\"}, \"colorscale\": [[0.0, \"#0d0887\"], [0.1111111111111111, \"#46039f\"], [0.2222222222222222, \"#7201a8\"], [0.3333333333333333, \"#9c179e\"], [0.4444444444444444, \"#bd3786\"], [0.5555555555555556, \"#d8576b\"], [0.6666666666666666, \"#ed7953\"], [0.7777777777777778, \"#fb9f3a\"], [0.8888888888888888, \"#fdca26\"], [1.0, \"#f0f921\"]], \"type\": \"histogram2d\"}], \"histogram2dcontour\": [{\"colorbar\": {\"outlinewidth\": 0, \"ticks\": \"\"}, \"colorscale\": [[0.0, \"#0d0887\"], [0.1111111111111111, \"#46039f\"], [0.2222222222222222, \"#7201a8\"], [0.3333333333333333, \"#9c179e\"], [0.4444444444444444, \"#bd3786\"], [0.5555555555555556, \"#d8576b\"], [0.6666666666666666, \"#ed7953\"], [0.7777777777777778, \"#fb9f3a\"], [0.8888888888888888, \"#fdca26\"], [1.0, \"#f0f921\"]], \"type\": \"histogram2dcontour\"}], \"mesh3d\": [{\"colorbar\": {\"outlinewidth\": 0, \"ticks\": \"\"}, \"type\": \"mesh3d\"}], \"parcoords\": [{\"line\": {\"colorbar\": {\"outlinewidth\": 0, \"ticks\": \"\"}}, \"type\": \"parcoords\"}], \"pie\": [{\"automargin\": true, \"type\": \"pie\"}], \"scatter\": [{\"marker\": {\"colorbar\": {\"outlinewidth\": 0, \"ticks\": \"\"}}, \"type\": \"scatter\"}], \"scatter3d\": [{\"line\": {\"colorbar\": {\"outlinewidth\": 0, \"ticks\": \"\"}}, \"marker\": {\"colorbar\": {\"outlinewidth\": 0, \"ticks\": \"\"}}, \"type\": \"scatter3d\"}], \"scattercarpet\": [{\"marker\": {\"colorbar\": {\"outlinewidth\": 0, \"ticks\": \"\"}}, \"type\": \"scattercarpet\"}], \"scattergeo\": [{\"marker\": {\"colorbar\": {\"outlinewidth\": 0, \"ticks\": \"\"}}, \"type\": \"scattergeo\"}], \"scattergl\": [{\"marker\": {\"colorbar\": {\"outlinewidth\": 0, \"ticks\": \"\"}}, \"type\": \"scattergl\"}], \"scattermapbox\": [{\"marker\": {\"colorbar\": {\"outlinewidth\": 0, \"ticks\": \"\"}}, \"type\": \"scattermapbox\"}], \"scatterpolar\": [{\"marker\": {\"colorbar\": {\"outlinewidth\": 0, \"ticks\": \"\"}}, \"type\": \"scatterpolar\"}], \"scatterpolargl\": [{\"marker\": {\"colorbar\": {\"outlinewidth\": 0, \"ticks\": \"\"}}, \"type\": \"scatterpolargl\"}], \"scatterternary\": [{\"marker\": {\"colorbar\": {\"outlinewidth\": 0, \"ticks\": \"\"}}, \"type\": \"scatterternary\"}], \"surface\": [{\"colorbar\": {\"outlinewidth\": 0, \"ticks\": \"\"}, \"colorscale\": [[0.0, \"#0d0887\"], [0.1111111111111111, \"#46039f\"], [0.2222222222222222, \"#7201a8\"], [0.3333333333333333, \"#9c179e\"], [0.4444444444444444, \"#bd3786\"], [0.5555555555555556, \"#d8576b\"], [0.6666666666666666, \"#ed7953\"], [0.7777777777777778, \"#fb9f3a\"], [0.8888888888888888, \"#fdca26\"], [1.0, \"#f0f921\"]], \"type\": \"surface\"}], \"table\": [{\"cells\": {\"fill\": {\"color\": \"#EBF0F8\"}, \"line\": {\"color\": \"white\"}}, \"header\": {\"fill\": {\"color\": \"#C8D4E3\"}, \"line\": {\"color\": \"white\"}}, \"type\": \"table\"}]}, \"layout\": {\"annotationdefaults\": {\"arrowcolor\": \"#2a3f5f\", \"arrowhead\": 0, \"arrowwidth\": 1}, \"coloraxis\": {\"colorbar\": {\"outlinewidth\": 0, \"ticks\": \"\"}}, \"colorscale\": {\"diverging\": [[0, \"#8e0152\"], [0.1, \"#c51b7d\"], [0.2, \"#de77ae\"], [0.3, \"#f1b6da\"], [0.4, \"#fde0ef\"], [0.5, \"#f7f7f7\"], [0.6, \"#e6f5d0\"], [0.7, \"#b8e186\"], [0.8, \"#7fbc41\"], [0.9, \"#4d9221\"], [1, \"#276419\"]], \"sequential\": [[0.0, \"#0d0887\"], [0.1111111111111111, \"#46039f\"], [0.2222222222222222, \"#7201a8\"], [0.3333333333333333, \"#9c179e\"], [0.4444444444444444, \"#bd3786\"], [0.5555555555555556, \"#d8576b\"], [0.6666666666666666, \"#ed7953\"], [0.7777777777777778, \"#fb9f3a\"], [0.8888888888888888, \"#fdca26\"], [1.0, \"#f0f921\"]], \"sequentialminus\": [[0.0, \"#0d0887\"], [0.1111111111111111, \"#46039f\"], [0.2222222222222222, \"#7201a8\"], [0.3333333333333333, \"#9c179e\"], [0.4444444444444444, \"#bd3786\"], [0.5555555555555556, \"#d8576b\"], [0.6666666666666666, \"#ed7953\"], [0.7777777777777778, \"#fb9f3a\"], [0.8888888888888888, \"#fdca26\"], [1.0, \"#f0f921\"]]}, \"colorway\": [\"#636efa\", \"#EF553B\", \"#00cc96\", \"#ab63fa\", \"#FFA15A\", \"#19d3f3\", \"#FF6692\", \"#B6E880\", \"#FF97FF\", \"#FECB52\"], \"font\": {\"color\": \"#2a3f5f\"}, \"geo\": {\"bgcolor\": \"white\", \"lakecolor\": \"white\", \"landcolor\": \"#E5ECF6\", \"showlakes\": true, \"showland\": true, \"subunitcolor\": \"white\"}, \"hoverlabel\": {\"align\": \"left\"}, \"hovermode\": \"closest\", \"mapbox\": {\"style\": \"light\"}, \"paper_bgcolor\": \"white\", \"plot_bgcolor\": \"#E5ECF6\", \"polar\": {\"angularaxis\": {\"gridcolor\": \"white\", \"linecolor\": \"white\", \"ticks\": \"\"}, \"bgcolor\": \"#E5ECF6\", \"radialaxis\": {\"gridcolor\": \"white\", \"linecolor\": \"white\", \"ticks\": \"\"}}, \"scene\": {\"xaxis\": {\"backgroundcolor\": \"#E5ECF6\", \"gridcolor\": \"white\", \"gridwidth\": 2, \"linecolor\": \"white\", \"showbackground\": true, \"ticks\": \"\", \"zerolinecolor\": \"white\"}, \"yaxis\": {\"backgroundcolor\": \"#E5ECF6\", \"gridcolor\": \"white\", \"gridwidth\": 2, \"linecolor\": \"white\", \"showbackground\": true, \"ticks\": \"\", \"zerolinecolor\": \"white\"}, \"zaxis\": {\"backgroundcolor\": \"#E5ECF6\", \"gridcolor\": \"white\", \"gridwidth\": 2, \"linecolor\": \"white\", \"showbackground\": true, \"ticks\": \"\", \"zerolinecolor\": \"white\"}}, \"shapedefaults\": {\"line\": {\"color\": \"#2a3f5f\"}}, \"ternary\": {\"aaxis\": {\"gridcolor\": \"white\", \"linecolor\": \"white\", \"ticks\": \"\"}, \"baxis\": {\"gridcolor\": \"white\", \"linecolor\": \"white\", \"ticks\": \"\"}, \"bgcolor\": \"#E5ECF6\", \"caxis\": {\"gridcolor\": \"white\", \"linecolor\": \"white\", \"ticks\": \"\"}}, \"title\": {\"x\": 0.05}, \"xaxis\": {\"automargin\": true, \"gridcolor\": \"white\", \"linecolor\": \"white\", \"ticks\": \"\", \"title\": {\"standoff\": 15}, \"zerolinecolor\": \"white\", \"zerolinewidth\": 2}, \"yaxis\": {\"automargin\": true, \"gridcolor\": \"white\", \"linecolor\": \"white\", \"ticks\": \"\", \"title\": {\"standoff\": 15}, \"zerolinecolor\": \"white\", \"zerolinewidth\": 2}}}, \"title\": {\"text\": \"Sea Ice Data Correlation Map\"}},                        {\"responsive\": true}                    ).then(function(){\n",
       "                            \n",
       "var gd = document.getElementById('014732ee-1368-424b-a4a4-427ad74c47ae');\n",
       "var x = new MutationObserver(function (mutations, observer) {{\n",
       "        var display = window.getComputedStyle(gd).display;\n",
       "        if (!display || display === 'none') {{\n",
       "            console.log([gd, 'removed!']);\n",
       "            Plotly.purge(gd);\n",
       "            observer.disconnect();\n",
       "        }}\n",
       "}});\n",
       "\n",
       "// Listen for the removal of the full notebook cells\n",
       "var notebookContainer = gd.closest('#notebook-container');\n",
       "if (notebookContainer) {{\n",
       "    x.observe(notebookContainer, {childList: true});\n",
       "}}\n",
       "\n",
       "// Listen for the clearing of the current output cell\n",
       "var outputEl = gd.closest('.output');\n",
       "if (outputEl) {{\n",
       "    x.observe(outputEl, {childList: true});\n",
       "}}\n",
       "\n",
       "                        })                };                });            </script>        </div>"
      ]
     },
     "metadata": {},
     "output_type": "display_data"
    }
   ],
   "source": [
    "import plotly.graph_objects as go\n",
    "\n",
    "fig = go.Figure(data=go.Heatmap(z = df[columns_normalized].corr(),\n",
    "                               x = columns_normalized,\n",
    "                               y = columns_normalized,\n",
    "                                colorscale= \"ylgn\"))\n",
    "\n",
    "fig.update_layout(title=\"Sea Ice Data Correlation Map\")\n",
    "                \n",
    "fig.show()"
   ]
  },
  {
   "cell_type": "code",
   "execution_count": 9,
   "metadata": {},
   "outputs": [
    {
     "data": {
      "text/plain": [
       "'\\nfig = go.Figure(data=go.Heatmap(\\n        z=df[columns_normalized],\\n        x=df[[\"year\"]],\\n        y=columns_normalized,\\n        colorscale=\\'Viridis\\'))\\n\\nfig.update_layout(\\n    title=\\'GitHub commits per day\\')\\n\\nfig.show()\\n'"
      ]
     },
     "execution_count": 9,
     "metadata": {},
     "output_type": "execute_result"
    }
   ],
   "source": [
    "# Heat Map with datetimes (Does not quite work yet)\n",
    "\n",
    "\"\"\"\n",
    "fig = go.Figure(data=go.Heatmap(\n",
    "        z=df[columns_normalized],\n",
    "        x=df[[\"year\"]],\n",
    "        y=columns_normalized,\n",
    "        colorscale='Viridis'))\n",
    "\n",
    "fig.update_layout(\n",
    "    title='GitHub commits per day')\n",
    "\n",
    "fig.show()\n",
    "\"\"\""
   ]
  },
  {
   "cell_type": "code",
   "execution_count": 10,
   "metadata": {},
   "outputs": [
    {
     "data": {
      "text/plain": [
       "'\\nWe could potentially add a backdrop image to a correlation plot in plotly! Leaving this here in case we ever need it...\\n\\nlayout = go.Layout(\\n   images=[dict( #add custom image to top right corner of graph\\n        source=\"main-logo-black.png\",\\n        xref=\"paper\", yref=\"paper\",\\n        x=1.2, y=1.1,\\n        sizex=0.32, sizey=0.32,\\n        xanchor=\"right\", yanchor=\"bottom\")],\\n  \\n    title=f\\'Return Correlation\\',\\n    \\n\\n'"
      ]
     },
     "execution_count": 10,
     "metadata": {},
     "output_type": "execute_result"
    }
   ],
   "source": [
    "\"\"\"\n",
    "We could potentially add a backdrop image to a correlation plot in plotly! Leaving this here in case we ever need it...\n",
    "\n",
    "layout = go.Layout(\n",
    "   images=[dict( #add custom image to top right corner of graph\n",
    "        source=\"main-logo-black.png\",\n",
    "        xref=\"paper\", yref=\"paper\",\n",
    "        x=1.2, y=1.1,\n",
    "        sizex=0.32, sizey=0.32,\n",
    "        xanchor=\"right\", yanchor=\"bottom\")],\n",
    "  \n",
    "    title=f'Return Correlation',\n",
    "    \n",
    "\n",
    "\"\"\""
   ]
  },
  {
   "cell_type": "code",
   "execution_count": 16,
   "metadata": {},
   "outputs": [
    {
     "data": {
      "application/vnd.plotly.v1+json": {
       "config": {
        "plotlyServerURL": "https://plot.ly"
       },
       "data": [
        {
         "alignmentgroup": "True",
         "bingroup": "x",
         "hovertemplate": "variable=doy<br>value=%{x}<br>count=%{y}<extra></extra>",
         "legendgroup": "doy",
         "marker": {
          "color": "#636efa",
          "opacity": 0.6
         },
         "name": "doy",
         "offsetgroup": "doy",
         "orientation": "v",
         "showlegend": true,
         "type": "histogram",
         "x": [
          0,
          0,
          0,
          0,
          1,
          1,
          1,
          1
         ],
         "xaxis": "x",
         "yaxis": "y"
        },
        {
         "alignmentgroup": "True",
         "boxpoints": "all",
         "fillcolor": "rgba(255,255,255,0)",
         "hoveron": "points",
         "hovertemplate": "variable=doy<br>value=%{x}<extra></extra>",
         "jitter": 0,
         "legendgroup": "doy",
         "line": {
          "color": "rgba(255,255,255,0)"
         },
         "marker": {
          "color": "#636efa",
          "symbol": "line-ns-open"
         },
         "name": "doy",
         "offsetgroup": "doy",
         "showlegend": false,
         "type": "box",
         "x": [
          0,
          0,
          0,
          0,
          1,
          1,
          1,
          1
         ],
         "xaxis": "x2",
         "yaxis": "y2"
        },
        {
         "alignmentgroup": "True",
         "bingroup": "x",
         "hovertemplate": "variable=x_ease<br>value=%{x}<br>count=%{y}<extra></extra>",
         "legendgroup": "x_ease",
         "marker": {
          "color": "#EF553B",
          "opacity": 0.6
         },
         "name": "x_ease",
         "offsetgroup": "x_ease",
         "orientation": "v",
         "showlegend": true,
         "type": "histogram",
         "x": [
          0.33528573030052433,
          0.3216813343499769,
          0.0010676109325569172,
          0.33564520357952743,
          0.3345572101414631,
          1,
          0.32159455428864936,
          0
         ],
         "xaxis": "x",
         "yaxis": "y"
        },
        {
         "alignmentgroup": "True",
         "boxpoints": "all",
         "fillcolor": "rgba(255,255,255,0)",
         "hoveron": "points",
         "hovertemplate": "variable=x_ease<br>value=%{x}<extra></extra>",
         "jitter": 0,
         "legendgroup": "x_ease",
         "line": {
          "color": "rgba(255,255,255,0)"
         },
         "marker": {
          "color": "#EF553B",
          "symbol": "line-ns-open"
         },
         "name": "x_ease",
         "offsetgroup": "x_ease",
         "showlegend": false,
         "type": "box",
         "x": [
          0.33528573030052433,
          0.3216813343499769,
          0.0010676109325569172,
          0.33564520357952743,
          0.3345572101414631,
          1,
          0.32159455428864936,
          0
         ],
         "xaxis": "x2",
         "yaxis": "y2"
        },
        {
         "alignmentgroup": "True",
         "bingroup": "x",
         "hovertemplate": "variable=y_ease<br>value=%{x}<br>count=%{y}<extra></extra>",
         "legendgroup": "y_ease",
         "marker": {
          "color": "#00cc96",
          "opacity": 0.6
         },
         "name": "y_ease",
         "offsetgroup": "y_ease",
         "orientation": "v",
         "showlegend": true,
         "type": "histogram",
         "x": [
          0.5224710663546137,
          0.06340916353708392,
          0.29490603893012723,
          1,
          0.5229067110011303,
          0,
          0.06340160564507746,
          0.2948095304630489
         ],
         "xaxis": "x",
         "yaxis": "y"
        },
        {
         "alignmentgroup": "True",
         "boxpoints": "all",
         "fillcolor": "rgba(255,255,255,0)",
         "hoveron": "points",
         "hovertemplate": "variable=y_ease<br>value=%{x}<extra></extra>",
         "jitter": 0,
         "legendgroup": "y_ease",
         "line": {
          "color": "rgba(255,255,255,0)"
         },
         "marker": {
          "color": "#00cc96",
          "symbol": "line-ns-open"
         },
         "name": "y_ease",
         "offsetgroup": "y_ease",
         "showlegend": false,
         "type": "box",
         "x": [
          0.5224710663546137,
          0.06340916353708392,
          0.29490603893012723,
          1,
          0.5229067110011303,
          0,
          0.06340160564507746,
          0.2948095304630489
         ],
         "xaxis": "x2",
         "yaxis": "y2"
        },
        {
         "alignmentgroup": "True",
         "bingroup": "x",
         "hovertemplate": "variable=u_buoy<br>value=%{x}<br>count=%{y}<extra></extra>",
         "legendgroup": "u_buoy",
         "marker": {
          "color": "#ab63fa",
          "opacity": 0.6
         },
         "name": "u_buoy",
         "offsetgroup": "u_buoy",
         "orientation": "v",
         "showlegend": true,
         "type": "histogram",
         "x": [
          0.08712458893814876,
          0.43115525608933414,
          0,
          0.49719511825071583,
          0.36853146358485706,
          0.6089481069336096,
          1,
          0.6141351306468316
         ],
         "xaxis": "x",
         "yaxis": "y"
        },
        {
         "alignmentgroup": "True",
         "boxpoints": "all",
         "fillcolor": "rgba(255,255,255,0)",
         "hoveron": "points",
         "hovertemplate": "variable=u_buoy<br>value=%{x}<extra></extra>",
         "jitter": 0,
         "legendgroup": "u_buoy",
         "line": {
          "color": "rgba(255,255,255,0)"
         },
         "marker": {
          "color": "#ab63fa",
          "symbol": "line-ns-open"
         },
         "name": "u_buoy",
         "offsetgroup": "u_buoy",
         "showlegend": false,
         "type": "box",
         "x": [
          0.08712458893814876,
          0.43115525608933414,
          0,
          0.49719511825071583,
          0.36853146358485706,
          0.6089481069336096,
          1,
          0.6141351306468316
         ],
         "xaxis": "x2",
         "yaxis": "y2"
        },
        {
         "alignmentgroup": "True",
         "bingroup": "x",
         "hovertemplate": "variable=v_buoy<br>value=%{x}<br>count=%{y}<extra></extra>",
         "legendgroup": "v_buoy",
         "marker": {
          "color": "#FFA15A",
          "opacity": 0.6
         },
         "name": "v_buoy",
         "offsetgroup": "v_buoy",
         "orientation": "v",
         "showlegend": true,
         "type": "histogram",
         "x": [
          0.9139831389219907,
          0.41557624619011313,
          0.33203674113406184,
          0.1864320541875698,
          1,
          0,
          0.8883774581937126,
          0.1417122247883028
         ],
         "xaxis": "x",
         "yaxis": "y"
        },
        {
         "alignmentgroup": "True",
         "boxpoints": "all",
         "fillcolor": "rgba(255,255,255,0)",
         "hoveron": "points",
         "hovertemplate": "variable=v_buoy<br>value=%{x}<extra></extra>",
         "jitter": 0,
         "legendgroup": "v_buoy",
         "line": {
          "color": "rgba(255,255,255,0)"
         },
         "marker": {
          "color": "#FFA15A",
          "symbol": "line-ns-open"
         },
         "name": "v_buoy",
         "offsetgroup": "v_buoy",
         "showlegend": false,
         "type": "box",
         "x": [
          0.9139831389219907,
          0.41557624619011313,
          0.33203674113406184,
          0.1864320541875698,
          1,
          0,
          0.8883774581937126,
          0.1417122247883028
         ],
         "xaxis": "x2",
         "yaxis": "y2"
        },
        {
         "alignmentgroup": "True",
         "bingroup": "x",
         "hovertemplate": "variable=u_era5<br>value=%{x}<br>count=%{y}<extra></extra>",
         "legendgroup": "u_era5",
         "marker": {
          "color": "#19d3f3",
          "opacity": 0.6
         },
         "name": "u_era5",
         "offsetgroup": "u_era5",
         "orientation": "v",
         "showlegend": true,
         "type": "histogram",
         "x": [
          0.1843597542548514,
          0.17441096978891668,
          0,
          0.6731499431942527,
          0.5784875937830822,
          0.9999999999999999,
          0.8149680305621614,
          0.6053641223516827
         ],
         "xaxis": "x",
         "yaxis": "y"
        },
        {
         "alignmentgroup": "True",
         "boxpoints": "all",
         "fillcolor": "rgba(255,255,255,0)",
         "hoveron": "points",
         "hovertemplate": "variable=u_era5<br>value=%{x}<extra></extra>",
         "jitter": 0,
         "legendgroup": "u_era5",
         "line": {
          "color": "rgba(255,255,255,0)"
         },
         "marker": {
          "color": "#19d3f3",
          "symbol": "line-ns-open"
         },
         "name": "u_era5",
         "offsetgroup": "u_era5",
         "showlegend": false,
         "type": "box",
         "x": [
          0.1843597542548514,
          0.17441096978891668,
          0,
          0.6731499431942527,
          0.5784875937830822,
          0.9999999999999999,
          0.8149680305621614,
          0.6053641223516827
         ],
         "xaxis": "x2",
         "yaxis": "y2"
        },
        {
         "alignmentgroup": "True",
         "bingroup": "x",
         "hovertemplate": "variable=v_era5<br>value=%{x}<br>count=%{y}<extra></extra>",
         "legendgroup": "v_era5",
         "marker": {
          "color": "#FF6692",
          "opacity": 0.6
         },
         "name": "v_era5",
         "offsetgroup": "v_era5",
         "orientation": "v",
         "showlegend": true,
         "type": "histogram",
         "x": [
          0.14295174888043977,
          0.07230245664700014,
          0.43224107082412166,
          0,
          0.7152485553293033,
          0.14801210421821545,
          1,
          0.4355977383488774
         ],
         "xaxis": "x",
         "yaxis": "y"
        },
        {
         "alignmentgroup": "True",
         "boxpoints": "all",
         "fillcolor": "rgba(255,255,255,0)",
         "hoveron": "points",
         "hovertemplate": "variable=v_era5<br>value=%{x}<extra></extra>",
         "jitter": 0,
         "legendgroup": "v_era5",
         "line": {
          "color": "rgba(255,255,255,0)"
         },
         "marker": {
          "color": "#FF6692",
          "symbol": "line-ns-open"
         },
         "name": "v_era5",
         "offsetgroup": "v_era5",
         "showlegend": false,
         "type": "box",
         "x": [
          0.14295174888043977,
          0.07230245664700014,
          0.43224107082412166,
          0,
          0.7152485553293033,
          0.14801210421821545,
          1,
          0.4355977383488774
         ],
         "xaxis": "x2",
         "yaxis": "y2"
        },
        {
         "alignmentgroup": "True",
         "bingroup": "x",
         "hovertemplate": "variable=sic_cdr<br>value=%{x}<br>count=%{y}<extra></extra>",
         "legendgroup": "sic_cdr",
         "marker": {
          "color": "#B6E880",
          "opacity": 0.6
         },
         "name": "sic_cdr",
         "offsetgroup": "sic_cdr",
         "orientation": "v",
         "showlegend": true,
         "type": "histogram",
         "x": [
          0.7084230439726298,
          0,
          0.8817148864781466,
          0.4849965920233572,
          0.7115959634339326,
          1,
          0.9999993353226841,
          0.3791102921066809
         ],
         "xaxis": "x",
         "yaxis": "y"
        },
        {
         "alignmentgroup": "True",
         "boxpoints": "all",
         "fillcolor": "rgba(255,255,255,0)",
         "hoveron": "points",
         "hovertemplate": "variable=sic_cdr<br>value=%{x}<extra></extra>",
         "jitter": 0,
         "legendgroup": "sic_cdr",
         "line": {
          "color": "rgba(255,255,255,0)"
         },
         "marker": {
          "color": "#B6E880",
          "symbol": "line-ns-open"
         },
         "name": "sic_cdr",
         "offsetgroup": "sic_cdr",
         "showlegend": false,
         "type": "box",
         "x": [
          0.7084230439726298,
          0,
          0.8817148864781466,
          0.4849965920233572,
          0.7115959634339326,
          1,
          0.9999993353226841,
          0.3791102921066809
         ],
         "xaxis": "x2",
         "yaxis": "y2"
        },
        {
         "alignmentgroup": "True",
         "bingroup": "x",
         "hovertemplate": "variable=h_cs2smos<br>value=%{x}<br>count=%{y}<extra></extra>",
         "legendgroup": "h_cs2smos",
         "marker": {
          "color": "#FF97FF",
          "opacity": 0.6
         },
         "name": "h_cs2smos",
         "offsetgroup": "h_cs2smos",
         "orientation": "v",
         "showlegend": true,
         "type": "histogram",
         "x": [
          null,
          null,
          null,
          null,
          null,
          null,
          null,
          null
         ],
         "xaxis": "x",
         "yaxis": "y"
        },
        {
         "alignmentgroup": "True",
         "boxpoints": "all",
         "fillcolor": "rgba(255,255,255,0)",
         "hoveron": "points",
         "hovertemplate": "variable=h_cs2smos<br>value=%{x}<extra></extra>",
         "jitter": 0,
         "legendgroup": "h_cs2smos",
         "line": {
          "color": "rgba(255,255,255,0)"
         },
         "marker": {
          "color": "#FF97FF",
          "symbol": "line-ns-open"
         },
         "name": "h_cs2smos",
         "offsetgroup": "h_cs2smos",
         "showlegend": false,
         "type": "box",
         "x": [
          null,
          null,
          null,
          null,
          null,
          null,
          null,
          null
         ],
         "xaxis": "x2",
         "yaxis": "y2"
        },
        {
         "alignmentgroup": "True",
         "bingroup": "x",
         "hovertemplate": "variable=h_piomas<br>value=%{x}<br>count=%{y}<extra></extra>",
         "legendgroup": "h_piomas",
         "marker": {
          "color": "#FECB52",
          "opacity": 0.6
         },
         "name": "h_piomas",
         "offsetgroup": "h_piomas",
         "orientation": "v",
         "showlegend": true,
         "type": "histogram",
         "x": [
          0.5650879929860382,
          0.007819315343226663,
          0,
          1.0000000000000002,
          0.5641239375097291,
          0.07904987768552174,
          0.01284735575356688,
          0.005058783213081286
         ],
         "xaxis": "x",
         "yaxis": "y"
        },
        {
         "alignmentgroup": "True",
         "boxpoints": "all",
         "fillcolor": "rgba(255,255,255,0)",
         "hoveron": "points",
         "hovertemplate": "variable=h_piomas<br>value=%{x}<extra></extra>",
         "jitter": 0,
         "legendgroup": "h_piomas",
         "line": {
          "color": "rgba(255,255,255,0)"
         },
         "marker": {
          "color": "#FECB52",
          "symbol": "line-ns-open"
         },
         "name": "h_piomas",
         "offsetgroup": "h_piomas",
         "showlegend": false,
         "type": "box",
         "x": [
          0.5650879929860382,
          0.007819315343226663,
          0,
          1.0000000000000002,
          0.5641239375097291,
          0.07904987768552174,
          0.01284735575356688,
          0.005058783213081286
         ],
         "xaxis": "x2",
         "yaxis": "y2"
        },
        {
         "alignmentgroup": "True",
         "bingroup": "x",
         "hovertemplate": "variable=d2c<br>value=%{x}<br>count=%{y}<extra></extra>",
         "legendgroup": "d2c",
         "marker": {
          "color": "#636efa",
          "opacity": 0.6
         },
         "name": "d2c",
         "offsetgroup": "d2c",
         "orientation": "v",
         "showlegend": true,
         "type": "histogram",
         "x": [
          1,
          0.31709012557958705,
          0.004614742193710608,
          0.11958815877285955,
          0.9938527959985572,
          0.7069103351615902,
          0.3170506048697108,
          0
         ],
         "xaxis": "x",
         "yaxis": "y"
        },
        {
         "alignmentgroup": "True",
         "boxpoints": "all",
         "fillcolor": "rgba(255,255,255,0)",
         "hoveron": "points",
         "hovertemplate": "variable=d2c<br>value=%{x}<extra></extra>",
         "jitter": 0,
         "legendgroup": "d2c",
         "line": {
          "color": "rgba(255,255,255,0)"
         },
         "marker": {
          "color": "#636efa",
          "symbol": "line-ns-open"
         },
         "name": "d2c",
         "offsetgroup": "d2c",
         "showlegend": false,
         "type": "box",
         "x": [
          1,
          0.31709012557958705,
          0.004614742193710608,
          0.11958815877285955,
          0.9938527959985572,
          0.7069103351615902,
          0.3170506048697108,
          0
         ],
         "xaxis": "x2",
         "yaxis": "y2"
        }
       ],
       "layout": {
        "barmode": "relative",
        "legend": {
         "title": {
          "text": "variable"
         },
         "tracegroupgap": 0
        },
        "margin": {
         "t": 60
        },
        "template": {
         "data": {
          "bar": [
           {
            "error_x": {
             "color": "#2a3f5f"
            },
            "error_y": {
             "color": "#2a3f5f"
            },
            "marker": {
             "line": {
              "color": "#E5ECF6",
              "width": 0.5
             }
            },
            "type": "bar"
           }
          ],
          "barpolar": [
           {
            "marker": {
             "line": {
              "color": "#E5ECF6",
              "width": 0.5
             }
            },
            "type": "barpolar"
           }
          ],
          "carpet": [
           {
            "aaxis": {
             "endlinecolor": "#2a3f5f",
             "gridcolor": "white",
             "linecolor": "white",
             "minorgridcolor": "white",
             "startlinecolor": "#2a3f5f"
            },
            "baxis": {
             "endlinecolor": "#2a3f5f",
             "gridcolor": "white",
             "linecolor": "white",
             "minorgridcolor": "white",
             "startlinecolor": "#2a3f5f"
            },
            "type": "carpet"
           }
          ],
          "choropleth": [
           {
            "colorbar": {
             "outlinewidth": 0,
             "ticks": ""
            },
            "type": "choropleth"
           }
          ],
          "contour": [
           {
            "colorbar": {
             "outlinewidth": 0,
             "ticks": ""
            },
            "colorscale": [
             [
              0,
              "#0d0887"
             ],
             [
              0.1111111111111111,
              "#46039f"
             ],
             [
              0.2222222222222222,
              "#7201a8"
             ],
             [
              0.3333333333333333,
              "#9c179e"
             ],
             [
              0.4444444444444444,
              "#bd3786"
             ],
             [
              0.5555555555555556,
              "#d8576b"
             ],
             [
              0.6666666666666666,
              "#ed7953"
             ],
             [
              0.7777777777777778,
              "#fb9f3a"
             ],
             [
              0.8888888888888888,
              "#fdca26"
             ],
             [
              1,
              "#f0f921"
             ]
            ],
            "type": "contour"
           }
          ],
          "contourcarpet": [
           {
            "colorbar": {
             "outlinewidth": 0,
             "ticks": ""
            },
            "type": "contourcarpet"
           }
          ],
          "heatmap": [
           {
            "colorbar": {
             "outlinewidth": 0,
             "ticks": ""
            },
            "colorscale": [
             [
              0,
              "#0d0887"
             ],
             [
              0.1111111111111111,
              "#46039f"
             ],
             [
              0.2222222222222222,
              "#7201a8"
             ],
             [
              0.3333333333333333,
              "#9c179e"
             ],
             [
              0.4444444444444444,
              "#bd3786"
             ],
             [
              0.5555555555555556,
              "#d8576b"
             ],
             [
              0.6666666666666666,
              "#ed7953"
             ],
             [
              0.7777777777777778,
              "#fb9f3a"
             ],
             [
              0.8888888888888888,
              "#fdca26"
             ],
             [
              1,
              "#f0f921"
             ]
            ],
            "type": "heatmap"
           }
          ],
          "heatmapgl": [
           {
            "colorbar": {
             "outlinewidth": 0,
             "ticks": ""
            },
            "colorscale": [
             [
              0,
              "#0d0887"
             ],
             [
              0.1111111111111111,
              "#46039f"
             ],
             [
              0.2222222222222222,
              "#7201a8"
             ],
             [
              0.3333333333333333,
              "#9c179e"
             ],
             [
              0.4444444444444444,
              "#bd3786"
             ],
             [
              0.5555555555555556,
              "#d8576b"
             ],
             [
              0.6666666666666666,
              "#ed7953"
             ],
             [
              0.7777777777777778,
              "#fb9f3a"
             ],
             [
              0.8888888888888888,
              "#fdca26"
             ],
             [
              1,
              "#f0f921"
             ]
            ],
            "type": "heatmapgl"
           }
          ],
          "histogram": [
           {
            "marker": {
             "colorbar": {
              "outlinewidth": 0,
              "ticks": ""
             }
            },
            "type": "histogram"
           }
          ],
          "histogram2d": [
           {
            "colorbar": {
             "outlinewidth": 0,
             "ticks": ""
            },
            "colorscale": [
             [
              0,
              "#0d0887"
             ],
             [
              0.1111111111111111,
              "#46039f"
             ],
             [
              0.2222222222222222,
              "#7201a8"
             ],
             [
              0.3333333333333333,
              "#9c179e"
             ],
             [
              0.4444444444444444,
              "#bd3786"
             ],
             [
              0.5555555555555556,
              "#d8576b"
             ],
             [
              0.6666666666666666,
              "#ed7953"
             ],
             [
              0.7777777777777778,
              "#fb9f3a"
             ],
             [
              0.8888888888888888,
              "#fdca26"
             ],
             [
              1,
              "#f0f921"
             ]
            ],
            "type": "histogram2d"
           }
          ],
          "histogram2dcontour": [
           {
            "colorbar": {
             "outlinewidth": 0,
             "ticks": ""
            },
            "colorscale": [
             [
              0,
              "#0d0887"
             ],
             [
              0.1111111111111111,
              "#46039f"
             ],
             [
              0.2222222222222222,
              "#7201a8"
             ],
             [
              0.3333333333333333,
              "#9c179e"
             ],
             [
              0.4444444444444444,
              "#bd3786"
             ],
             [
              0.5555555555555556,
              "#d8576b"
             ],
             [
              0.6666666666666666,
              "#ed7953"
             ],
             [
              0.7777777777777778,
              "#fb9f3a"
             ],
             [
              0.8888888888888888,
              "#fdca26"
             ],
             [
              1,
              "#f0f921"
             ]
            ],
            "type": "histogram2dcontour"
           }
          ],
          "mesh3d": [
           {
            "colorbar": {
             "outlinewidth": 0,
             "ticks": ""
            },
            "type": "mesh3d"
           }
          ],
          "parcoords": [
           {
            "line": {
             "colorbar": {
              "outlinewidth": 0,
              "ticks": ""
             }
            },
            "type": "parcoords"
           }
          ],
          "pie": [
           {
            "automargin": true,
            "type": "pie"
           }
          ],
          "scatter": [
           {
            "marker": {
             "colorbar": {
              "outlinewidth": 0,
              "ticks": ""
             }
            },
            "type": "scatter"
           }
          ],
          "scatter3d": [
           {
            "line": {
             "colorbar": {
              "outlinewidth": 0,
              "ticks": ""
             }
            },
            "marker": {
             "colorbar": {
              "outlinewidth": 0,
              "ticks": ""
             }
            },
            "type": "scatter3d"
           }
          ],
          "scattercarpet": [
           {
            "marker": {
             "colorbar": {
              "outlinewidth": 0,
              "ticks": ""
             }
            },
            "type": "scattercarpet"
           }
          ],
          "scattergeo": [
           {
            "marker": {
             "colorbar": {
              "outlinewidth": 0,
              "ticks": ""
             }
            },
            "type": "scattergeo"
           }
          ],
          "scattergl": [
           {
            "marker": {
             "colorbar": {
              "outlinewidth": 0,
              "ticks": ""
             }
            },
            "type": "scattergl"
           }
          ],
          "scattermapbox": [
           {
            "marker": {
             "colorbar": {
              "outlinewidth": 0,
              "ticks": ""
             }
            },
            "type": "scattermapbox"
           }
          ],
          "scatterpolar": [
           {
            "marker": {
             "colorbar": {
              "outlinewidth": 0,
              "ticks": ""
             }
            },
            "type": "scatterpolar"
           }
          ],
          "scatterpolargl": [
           {
            "marker": {
             "colorbar": {
              "outlinewidth": 0,
              "ticks": ""
             }
            },
            "type": "scatterpolargl"
           }
          ],
          "scatterternary": [
           {
            "marker": {
             "colorbar": {
              "outlinewidth": 0,
              "ticks": ""
             }
            },
            "type": "scatterternary"
           }
          ],
          "surface": [
           {
            "colorbar": {
             "outlinewidth": 0,
             "ticks": ""
            },
            "colorscale": [
             [
              0,
              "#0d0887"
             ],
             [
              0.1111111111111111,
              "#46039f"
             ],
             [
              0.2222222222222222,
              "#7201a8"
             ],
             [
              0.3333333333333333,
              "#9c179e"
             ],
             [
              0.4444444444444444,
              "#bd3786"
             ],
             [
              0.5555555555555556,
              "#d8576b"
             ],
             [
              0.6666666666666666,
              "#ed7953"
             ],
             [
              0.7777777777777778,
              "#fb9f3a"
             ],
             [
              0.8888888888888888,
              "#fdca26"
             ],
             [
              1,
              "#f0f921"
             ]
            ],
            "type": "surface"
           }
          ],
          "table": [
           {
            "cells": {
             "fill": {
              "color": "#EBF0F8"
             },
             "line": {
              "color": "white"
             }
            },
            "header": {
             "fill": {
              "color": "#C8D4E3"
             },
             "line": {
              "color": "white"
             }
            },
            "type": "table"
           }
          ]
         },
         "layout": {
          "annotationdefaults": {
           "arrowcolor": "#2a3f5f",
           "arrowhead": 0,
           "arrowwidth": 1
          },
          "coloraxis": {
           "colorbar": {
            "outlinewidth": 0,
            "ticks": ""
           }
          },
          "colorscale": {
           "diverging": [
            [
             0,
             "#8e0152"
            ],
            [
             0.1,
             "#c51b7d"
            ],
            [
             0.2,
             "#de77ae"
            ],
            [
             0.3,
             "#f1b6da"
            ],
            [
             0.4,
             "#fde0ef"
            ],
            [
             0.5,
             "#f7f7f7"
            ],
            [
             0.6,
             "#e6f5d0"
            ],
            [
             0.7,
             "#b8e186"
            ],
            [
             0.8,
             "#7fbc41"
            ],
            [
             0.9,
             "#4d9221"
            ],
            [
             1,
             "#276419"
            ]
           ],
           "sequential": [
            [
             0,
             "#0d0887"
            ],
            [
             0.1111111111111111,
             "#46039f"
            ],
            [
             0.2222222222222222,
             "#7201a8"
            ],
            [
             0.3333333333333333,
             "#9c179e"
            ],
            [
             0.4444444444444444,
             "#bd3786"
            ],
            [
             0.5555555555555556,
             "#d8576b"
            ],
            [
             0.6666666666666666,
             "#ed7953"
            ],
            [
             0.7777777777777778,
             "#fb9f3a"
            ],
            [
             0.8888888888888888,
             "#fdca26"
            ],
            [
             1,
             "#f0f921"
            ]
           ],
           "sequentialminus": [
            [
             0,
             "#0d0887"
            ],
            [
             0.1111111111111111,
             "#46039f"
            ],
            [
             0.2222222222222222,
             "#7201a8"
            ],
            [
             0.3333333333333333,
             "#9c179e"
            ],
            [
             0.4444444444444444,
             "#bd3786"
            ],
            [
             0.5555555555555556,
             "#d8576b"
            ],
            [
             0.6666666666666666,
             "#ed7953"
            ],
            [
             0.7777777777777778,
             "#fb9f3a"
            ],
            [
             0.8888888888888888,
             "#fdca26"
            ],
            [
             1,
             "#f0f921"
            ]
           ]
          },
          "colorway": [
           "#636efa",
           "#EF553B",
           "#00cc96",
           "#ab63fa",
           "#FFA15A",
           "#19d3f3",
           "#FF6692",
           "#B6E880",
           "#FF97FF",
           "#FECB52"
          ],
          "font": {
           "color": "#2a3f5f"
          },
          "geo": {
           "bgcolor": "white",
           "lakecolor": "white",
           "landcolor": "#E5ECF6",
           "showlakes": true,
           "showland": true,
           "subunitcolor": "white"
          },
          "hoverlabel": {
           "align": "left"
          },
          "hovermode": "closest",
          "mapbox": {
           "style": "light"
          },
          "paper_bgcolor": "white",
          "plot_bgcolor": "#E5ECF6",
          "polar": {
           "angularaxis": {
            "gridcolor": "white",
            "linecolor": "white",
            "ticks": ""
           },
           "bgcolor": "#E5ECF6",
           "radialaxis": {
            "gridcolor": "white",
            "linecolor": "white",
            "ticks": ""
           }
          },
          "scene": {
           "xaxis": {
            "backgroundcolor": "#E5ECF6",
            "gridcolor": "white",
            "gridwidth": 2,
            "linecolor": "white",
            "showbackground": true,
            "ticks": "",
            "zerolinecolor": "white"
           },
           "yaxis": {
            "backgroundcolor": "#E5ECF6",
            "gridcolor": "white",
            "gridwidth": 2,
            "linecolor": "white",
            "showbackground": true,
            "ticks": "",
            "zerolinecolor": "white"
           },
           "zaxis": {
            "backgroundcolor": "#E5ECF6",
            "gridcolor": "white",
            "gridwidth": 2,
            "linecolor": "white",
            "showbackground": true,
            "ticks": "",
            "zerolinecolor": "white"
           }
          },
          "shapedefaults": {
           "line": {
            "color": "#2a3f5f"
           }
          },
          "ternary": {
           "aaxis": {
            "gridcolor": "white",
            "linecolor": "white",
            "ticks": ""
           },
           "baxis": {
            "gridcolor": "white",
            "linecolor": "white",
            "ticks": ""
           },
           "bgcolor": "#E5ECF6",
           "caxis": {
            "gridcolor": "white",
            "linecolor": "white",
            "ticks": ""
           }
          },
          "title": {
           "x": 0.05
          },
          "xaxis": {
           "automargin": true,
           "gridcolor": "white",
           "linecolor": "white",
           "ticks": "",
           "title": {
            "standoff": 15
           },
           "zerolinecolor": "white",
           "zerolinewidth": 2
          },
          "yaxis": {
           "automargin": true,
           "gridcolor": "white",
           "linecolor": "white",
           "ticks": "",
           "title": {
            "standoff": 15
           },
           "zerolinecolor": "white",
           "zerolinewidth": 2
          }
         }
        },
        "xaxis": {
         "anchor": "y",
         "domain": [
          0,
          1
         ],
         "title": {
          "text": "value"
         }
        },
        "xaxis2": {
         "anchor": "y2",
         "domain": [
          0,
          1
         ],
         "matches": "x",
         "showgrid": true,
         "showticklabels": false
        },
        "yaxis": {
         "anchor": "x",
         "domain": [
          0,
          0.7326
         ],
         "title": {
          "text": "count"
         }
        },
        "yaxis2": {
         "anchor": "x2",
         "domain": [
          0.7426,
          1
         ],
         "matches": "y2",
         "showgrid": false,
         "showline": false,
         "showticklabels": false,
         "ticks": ""
        }
       }
      },
      "text/html": [
       "<div>                            <div id=\"92129e21-5b67-4619-a356-7e70773a8134\" class=\"plotly-graph-div\" style=\"height:525px; width:100%;\"></div>            <script type=\"text/javascript\">                require([\"plotly\"], function(Plotly) {                    window.PLOTLYENV=window.PLOTLYENV || {};                                    if (document.getElementById(\"92129e21-5b67-4619-a356-7e70773a8134\")) {                    Plotly.newPlot(                        \"92129e21-5b67-4619-a356-7e70773a8134\",                        [{\"alignmentgroup\": \"True\", \"bingroup\": \"x\", \"hovertemplate\": \"variable=doy<br>value=%{x}<br>count=%{y}<extra></extra>\", \"legendgroup\": \"doy\", \"marker\": {\"color\": \"#636efa\", \"opacity\": 0.6}, \"name\": \"doy\", \"offsetgroup\": \"doy\", \"orientation\": \"v\", \"showlegend\": true, \"type\": \"histogram\", \"x\": [0.0, 0.0, 0.0, 0.0, 1.0, 1.0, 1.0, 1.0], \"xaxis\": \"x\", \"yaxis\": \"y\"}, {\"alignmentgroup\": \"True\", \"boxpoints\": \"all\", \"fillcolor\": \"rgba(255,255,255,0)\", \"hoveron\": \"points\", \"hovertemplate\": \"variable=doy<br>value=%{x}<extra></extra>\", \"jitter\": 0, \"legendgroup\": \"doy\", \"line\": {\"color\": \"rgba(255,255,255,0)\"}, \"marker\": {\"color\": \"#636efa\", \"symbol\": \"line-ns-open\"}, \"name\": \"doy\", \"offsetgroup\": \"doy\", \"showlegend\": false, \"type\": \"box\", \"x\": [0.0, 0.0, 0.0, 0.0, 1.0, 1.0, 1.0, 1.0], \"xaxis\": \"x2\", \"yaxis\": \"y2\"}, {\"alignmentgroup\": \"True\", \"bingroup\": \"x\", \"hovertemplate\": \"variable=x_ease<br>value=%{x}<br>count=%{y}<extra></extra>\", \"legendgroup\": \"x_ease\", \"marker\": {\"color\": \"#EF553B\", \"opacity\": 0.6}, \"name\": \"x_ease\", \"offsetgroup\": \"x_ease\", \"orientation\": \"v\", \"showlegend\": true, \"type\": \"histogram\", \"x\": [0.33528573030052433, 0.3216813343499769, 0.0010676109325569172, 0.33564520357952743, 0.3345572101414631, 1.0, 0.32159455428864936, 0.0], \"xaxis\": \"x\", \"yaxis\": \"y\"}, {\"alignmentgroup\": \"True\", \"boxpoints\": \"all\", \"fillcolor\": \"rgba(255,255,255,0)\", \"hoveron\": \"points\", \"hovertemplate\": \"variable=x_ease<br>value=%{x}<extra></extra>\", \"jitter\": 0, \"legendgroup\": \"x_ease\", \"line\": {\"color\": \"rgba(255,255,255,0)\"}, \"marker\": {\"color\": \"#EF553B\", \"symbol\": \"line-ns-open\"}, \"name\": \"x_ease\", \"offsetgroup\": \"x_ease\", \"showlegend\": false, \"type\": \"box\", \"x\": [0.33528573030052433, 0.3216813343499769, 0.0010676109325569172, 0.33564520357952743, 0.3345572101414631, 1.0, 0.32159455428864936, 0.0], \"xaxis\": \"x2\", \"yaxis\": \"y2\"}, {\"alignmentgroup\": \"True\", \"bingroup\": \"x\", \"hovertemplate\": \"variable=y_ease<br>value=%{x}<br>count=%{y}<extra></extra>\", \"legendgroup\": \"y_ease\", \"marker\": {\"color\": \"#00cc96\", \"opacity\": 0.6}, \"name\": \"y_ease\", \"offsetgroup\": \"y_ease\", \"orientation\": \"v\", \"showlegend\": true, \"type\": \"histogram\", \"x\": [0.5224710663546137, 0.06340916353708392, 0.29490603893012723, 1.0, 0.5229067110011303, 0.0, 0.06340160564507746, 0.2948095304630489], \"xaxis\": \"x\", \"yaxis\": \"y\"}, {\"alignmentgroup\": \"True\", \"boxpoints\": \"all\", \"fillcolor\": \"rgba(255,255,255,0)\", \"hoveron\": \"points\", \"hovertemplate\": \"variable=y_ease<br>value=%{x}<extra></extra>\", \"jitter\": 0, \"legendgroup\": \"y_ease\", \"line\": {\"color\": \"rgba(255,255,255,0)\"}, \"marker\": {\"color\": \"#00cc96\", \"symbol\": \"line-ns-open\"}, \"name\": \"y_ease\", \"offsetgroup\": \"y_ease\", \"showlegend\": false, \"type\": \"box\", \"x\": [0.5224710663546137, 0.06340916353708392, 0.29490603893012723, 1.0, 0.5229067110011303, 0.0, 0.06340160564507746, 0.2948095304630489], \"xaxis\": \"x2\", \"yaxis\": \"y2\"}, {\"alignmentgroup\": \"True\", \"bingroup\": \"x\", \"hovertemplate\": \"variable=u_buoy<br>value=%{x}<br>count=%{y}<extra></extra>\", \"legendgroup\": \"u_buoy\", \"marker\": {\"color\": \"#ab63fa\", \"opacity\": 0.6}, \"name\": \"u_buoy\", \"offsetgroup\": \"u_buoy\", \"orientation\": \"v\", \"showlegend\": true, \"type\": \"histogram\", \"x\": [0.08712458893814876, 0.43115525608933414, 0.0, 0.49719511825071583, 0.36853146358485706, 0.6089481069336096, 1.0, 0.6141351306468316], \"xaxis\": \"x\", \"yaxis\": \"y\"}, {\"alignmentgroup\": \"True\", \"boxpoints\": \"all\", \"fillcolor\": \"rgba(255,255,255,0)\", \"hoveron\": \"points\", \"hovertemplate\": \"variable=u_buoy<br>value=%{x}<extra></extra>\", \"jitter\": 0, \"legendgroup\": \"u_buoy\", \"line\": {\"color\": \"rgba(255,255,255,0)\"}, \"marker\": {\"color\": \"#ab63fa\", \"symbol\": \"line-ns-open\"}, \"name\": \"u_buoy\", \"offsetgroup\": \"u_buoy\", \"showlegend\": false, \"type\": \"box\", \"x\": [0.08712458893814876, 0.43115525608933414, 0.0, 0.49719511825071583, 0.36853146358485706, 0.6089481069336096, 1.0, 0.6141351306468316], \"xaxis\": \"x2\", \"yaxis\": \"y2\"}, {\"alignmentgroup\": \"True\", \"bingroup\": \"x\", \"hovertemplate\": \"variable=v_buoy<br>value=%{x}<br>count=%{y}<extra></extra>\", \"legendgroup\": \"v_buoy\", \"marker\": {\"color\": \"#FFA15A\", \"opacity\": 0.6}, \"name\": \"v_buoy\", \"offsetgroup\": \"v_buoy\", \"orientation\": \"v\", \"showlegend\": true, \"type\": \"histogram\", \"x\": [0.9139831389219907, 0.41557624619011313, 0.33203674113406184, 0.1864320541875698, 1.0, 0.0, 0.8883774581937126, 0.1417122247883028], \"xaxis\": \"x\", \"yaxis\": \"y\"}, {\"alignmentgroup\": \"True\", \"boxpoints\": \"all\", \"fillcolor\": \"rgba(255,255,255,0)\", \"hoveron\": \"points\", \"hovertemplate\": \"variable=v_buoy<br>value=%{x}<extra></extra>\", \"jitter\": 0, \"legendgroup\": \"v_buoy\", \"line\": {\"color\": \"rgba(255,255,255,0)\"}, \"marker\": {\"color\": \"#FFA15A\", \"symbol\": \"line-ns-open\"}, \"name\": \"v_buoy\", \"offsetgroup\": \"v_buoy\", \"showlegend\": false, \"type\": \"box\", \"x\": [0.9139831389219907, 0.41557624619011313, 0.33203674113406184, 0.1864320541875698, 1.0, 0.0, 0.8883774581937126, 0.1417122247883028], \"xaxis\": \"x2\", \"yaxis\": \"y2\"}, {\"alignmentgroup\": \"True\", \"bingroup\": \"x\", \"hovertemplate\": \"variable=u_era5<br>value=%{x}<br>count=%{y}<extra></extra>\", \"legendgroup\": \"u_era5\", \"marker\": {\"color\": \"#19d3f3\", \"opacity\": 0.6}, \"name\": \"u_era5\", \"offsetgroup\": \"u_era5\", \"orientation\": \"v\", \"showlegend\": true, \"type\": \"histogram\", \"x\": [0.1843597542548514, 0.17441096978891668, 0.0, 0.6731499431942527, 0.5784875937830822, 0.9999999999999999, 0.8149680305621614, 0.6053641223516827], \"xaxis\": \"x\", \"yaxis\": \"y\"}, {\"alignmentgroup\": \"True\", \"boxpoints\": \"all\", \"fillcolor\": \"rgba(255,255,255,0)\", \"hoveron\": \"points\", \"hovertemplate\": \"variable=u_era5<br>value=%{x}<extra></extra>\", \"jitter\": 0, \"legendgroup\": \"u_era5\", \"line\": {\"color\": \"rgba(255,255,255,0)\"}, \"marker\": {\"color\": \"#19d3f3\", \"symbol\": \"line-ns-open\"}, \"name\": \"u_era5\", \"offsetgroup\": \"u_era5\", \"showlegend\": false, \"type\": \"box\", \"x\": [0.1843597542548514, 0.17441096978891668, 0.0, 0.6731499431942527, 0.5784875937830822, 0.9999999999999999, 0.8149680305621614, 0.6053641223516827], \"xaxis\": \"x2\", \"yaxis\": \"y2\"}, {\"alignmentgroup\": \"True\", \"bingroup\": \"x\", \"hovertemplate\": \"variable=v_era5<br>value=%{x}<br>count=%{y}<extra></extra>\", \"legendgroup\": \"v_era5\", \"marker\": {\"color\": \"#FF6692\", \"opacity\": 0.6}, \"name\": \"v_era5\", \"offsetgroup\": \"v_era5\", \"orientation\": \"v\", \"showlegend\": true, \"type\": \"histogram\", \"x\": [0.14295174888043977, 0.07230245664700014, 0.43224107082412166, 0.0, 0.7152485553293033, 0.14801210421821545, 1.0, 0.4355977383488774], \"xaxis\": \"x\", \"yaxis\": \"y\"}, {\"alignmentgroup\": \"True\", \"boxpoints\": \"all\", \"fillcolor\": \"rgba(255,255,255,0)\", \"hoveron\": \"points\", \"hovertemplate\": \"variable=v_era5<br>value=%{x}<extra></extra>\", \"jitter\": 0, \"legendgroup\": \"v_era5\", \"line\": {\"color\": \"rgba(255,255,255,0)\"}, \"marker\": {\"color\": \"#FF6692\", \"symbol\": \"line-ns-open\"}, \"name\": \"v_era5\", \"offsetgroup\": \"v_era5\", \"showlegend\": false, \"type\": \"box\", \"x\": [0.14295174888043977, 0.07230245664700014, 0.43224107082412166, 0.0, 0.7152485553293033, 0.14801210421821545, 1.0, 0.4355977383488774], \"xaxis\": \"x2\", \"yaxis\": \"y2\"}, {\"alignmentgroup\": \"True\", \"bingroup\": \"x\", \"hovertemplate\": \"variable=sic_cdr<br>value=%{x}<br>count=%{y}<extra></extra>\", \"legendgroup\": \"sic_cdr\", \"marker\": {\"color\": \"#B6E880\", \"opacity\": 0.6}, \"name\": \"sic_cdr\", \"offsetgroup\": \"sic_cdr\", \"orientation\": \"v\", \"showlegend\": true, \"type\": \"histogram\", \"x\": [0.7084230439726298, 0.0, 0.8817148864781466, 0.4849965920233572, 0.7115959634339326, 1.0, 0.9999993353226841, 0.3791102921066809], \"xaxis\": \"x\", \"yaxis\": \"y\"}, {\"alignmentgroup\": \"True\", \"boxpoints\": \"all\", \"fillcolor\": \"rgba(255,255,255,0)\", \"hoveron\": \"points\", \"hovertemplate\": \"variable=sic_cdr<br>value=%{x}<extra></extra>\", \"jitter\": 0, \"legendgroup\": \"sic_cdr\", \"line\": {\"color\": \"rgba(255,255,255,0)\"}, \"marker\": {\"color\": \"#B6E880\", \"symbol\": \"line-ns-open\"}, \"name\": \"sic_cdr\", \"offsetgroup\": \"sic_cdr\", \"showlegend\": false, \"type\": \"box\", \"x\": [0.7084230439726298, 0.0, 0.8817148864781466, 0.4849965920233572, 0.7115959634339326, 1.0, 0.9999993353226841, 0.3791102921066809], \"xaxis\": \"x2\", \"yaxis\": \"y2\"}, {\"alignmentgroup\": \"True\", \"bingroup\": \"x\", \"hovertemplate\": \"variable=h_cs2smos<br>value=%{x}<br>count=%{y}<extra></extra>\", \"legendgroup\": \"h_cs2smos\", \"marker\": {\"color\": \"#FF97FF\", \"opacity\": 0.6}, \"name\": \"h_cs2smos\", \"offsetgroup\": \"h_cs2smos\", \"orientation\": \"v\", \"showlegend\": true, \"type\": \"histogram\", \"x\": [null, null, null, null, null, null, null, null], \"xaxis\": \"x\", \"yaxis\": \"y\"}, {\"alignmentgroup\": \"True\", \"boxpoints\": \"all\", \"fillcolor\": \"rgba(255,255,255,0)\", \"hoveron\": \"points\", \"hovertemplate\": \"variable=h_cs2smos<br>value=%{x}<extra></extra>\", \"jitter\": 0, \"legendgroup\": \"h_cs2smos\", \"line\": {\"color\": \"rgba(255,255,255,0)\"}, \"marker\": {\"color\": \"#FF97FF\", \"symbol\": \"line-ns-open\"}, \"name\": \"h_cs2smos\", \"offsetgroup\": \"h_cs2smos\", \"showlegend\": false, \"type\": \"box\", \"x\": [null, null, null, null, null, null, null, null], \"xaxis\": \"x2\", \"yaxis\": \"y2\"}, {\"alignmentgroup\": \"True\", \"bingroup\": \"x\", \"hovertemplate\": \"variable=h_piomas<br>value=%{x}<br>count=%{y}<extra></extra>\", \"legendgroup\": \"h_piomas\", \"marker\": {\"color\": \"#FECB52\", \"opacity\": 0.6}, \"name\": \"h_piomas\", \"offsetgroup\": \"h_piomas\", \"orientation\": \"v\", \"showlegend\": true, \"type\": \"histogram\", \"x\": [0.5650879929860382, 0.007819315343226663, 0.0, 1.0000000000000002, 0.5641239375097291, 0.07904987768552174, 0.01284735575356688, 0.005058783213081286], \"xaxis\": \"x\", \"yaxis\": \"y\"}, {\"alignmentgroup\": \"True\", \"boxpoints\": \"all\", \"fillcolor\": \"rgba(255,255,255,0)\", \"hoveron\": \"points\", \"hovertemplate\": \"variable=h_piomas<br>value=%{x}<extra></extra>\", \"jitter\": 0, \"legendgroup\": \"h_piomas\", \"line\": {\"color\": \"rgba(255,255,255,0)\"}, \"marker\": {\"color\": \"#FECB52\", \"symbol\": \"line-ns-open\"}, \"name\": \"h_piomas\", \"offsetgroup\": \"h_piomas\", \"showlegend\": false, \"type\": \"box\", \"x\": [0.5650879929860382, 0.007819315343226663, 0.0, 1.0000000000000002, 0.5641239375097291, 0.07904987768552174, 0.01284735575356688, 0.005058783213081286], \"xaxis\": \"x2\", \"yaxis\": \"y2\"}, {\"alignmentgroup\": \"True\", \"bingroup\": \"x\", \"hovertemplate\": \"variable=d2c<br>value=%{x}<br>count=%{y}<extra></extra>\", \"legendgroup\": \"d2c\", \"marker\": {\"color\": \"#636efa\", \"opacity\": 0.6}, \"name\": \"d2c\", \"offsetgroup\": \"d2c\", \"orientation\": \"v\", \"showlegend\": true, \"type\": \"histogram\", \"x\": [1.0, 0.31709012557958705, 0.004614742193710608, 0.11958815877285955, 0.9938527959985572, 0.7069103351615902, 0.3170506048697108, 0.0], \"xaxis\": \"x\", \"yaxis\": \"y\"}, {\"alignmentgroup\": \"True\", \"boxpoints\": \"all\", \"fillcolor\": \"rgba(255,255,255,0)\", \"hoveron\": \"points\", \"hovertemplate\": \"variable=d2c<br>value=%{x}<extra></extra>\", \"jitter\": 0, \"legendgroup\": \"d2c\", \"line\": {\"color\": \"rgba(255,255,255,0)\"}, \"marker\": {\"color\": \"#636efa\", \"symbol\": \"line-ns-open\"}, \"name\": \"d2c\", \"offsetgroup\": \"d2c\", \"showlegend\": false, \"type\": \"box\", \"x\": [1.0, 0.31709012557958705, 0.004614742193710608, 0.11958815877285955, 0.9938527959985572, 0.7069103351615902, 0.3170506048697108, 0.0], \"xaxis\": \"x2\", \"yaxis\": \"y2\"}],                        {\"barmode\": \"relative\", \"legend\": {\"title\": {\"text\": \"variable\"}, \"tracegroupgap\": 0}, \"margin\": {\"t\": 60}, \"template\": {\"data\": {\"bar\": [{\"error_x\": {\"color\": \"#2a3f5f\"}, \"error_y\": {\"color\": \"#2a3f5f\"}, \"marker\": {\"line\": {\"color\": \"#E5ECF6\", \"width\": 0.5}}, \"type\": \"bar\"}], \"barpolar\": [{\"marker\": {\"line\": {\"color\": \"#E5ECF6\", \"width\": 0.5}}, \"type\": \"barpolar\"}], \"carpet\": [{\"aaxis\": {\"endlinecolor\": \"#2a3f5f\", \"gridcolor\": \"white\", \"linecolor\": \"white\", \"minorgridcolor\": \"white\", \"startlinecolor\": \"#2a3f5f\"}, \"baxis\": {\"endlinecolor\": \"#2a3f5f\", \"gridcolor\": \"white\", \"linecolor\": \"white\", \"minorgridcolor\": \"white\", \"startlinecolor\": \"#2a3f5f\"}, \"type\": \"carpet\"}], \"choropleth\": [{\"colorbar\": {\"outlinewidth\": 0, \"ticks\": \"\"}, \"type\": \"choropleth\"}], \"contour\": [{\"colorbar\": {\"outlinewidth\": 0, \"ticks\": \"\"}, \"colorscale\": [[0.0, \"#0d0887\"], [0.1111111111111111, \"#46039f\"], [0.2222222222222222, \"#7201a8\"], [0.3333333333333333, \"#9c179e\"], [0.4444444444444444, \"#bd3786\"], [0.5555555555555556, \"#d8576b\"], [0.6666666666666666, \"#ed7953\"], [0.7777777777777778, \"#fb9f3a\"], [0.8888888888888888, \"#fdca26\"], [1.0, \"#f0f921\"]], \"type\": \"contour\"}], \"contourcarpet\": [{\"colorbar\": {\"outlinewidth\": 0, \"ticks\": \"\"}, \"type\": \"contourcarpet\"}], \"heatmap\": [{\"colorbar\": {\"outlinewidth\": 0, \"ticks\": \"\"}, \"colorscale\": [[0.0, \"#0d0887\"], [0.1111111111111111, \"#46039f\"], [0.2222222222222222, \"#7201a8\"], [0.3333333333333333, \"#9c179e\"], [0.4444444444444444, \"#bd3786\"], [0.5555555555555556, \"#d8576b\"], [0.6666666666666666, \"#ed7953\"], [0.7777777777777778, \"#fb9f3a\"], [0.8888888888888888, \"#fdca26\"], [1.0, \"#f0f921\"]], \"type\": \"heatmap\"}], \"heatmapgl\": [{\"colorbar\": {\"outlinewidth\": 0, \"ticks\": \"\"}, \"colorscale\": [[0.0, \"#0d0887\"], [0.1111111111111111, \"#46039f\"], [0.2222222222222222, \"#7201a8\"], [0.3333333333333333, \"#9c179e\"], [0.4444444444444444, \"#bd3786\"], [0.5555555555555556, \"#d8576b\"], [0.6666666666666666, \"#ed7953\"], [0.7777777777777778, \"#fb9f3a\"], [0.8888888888888888, \"#fdca26\"], [1.0, \"#f0f921\"]], \"type\": \"heatmapgl\"}], \"histogram\": [{\"marker\": {\"colorbar\": {\"outlinewidth\": 0, \"ticks\": \"\"}}, \"type\": \"histogram\"}], \"histogram2d\": [{\"colorbar\": {\"outlinewidth\": 0, \"ticks\": \"\"}, \"colorscale\": [[0.0, \"#0d0887\"], [0.1111111111111111, \"#46039f\"], [0.2222222222222222, \"#7201a8\"], [0.3333333333333333, \"#9c179e\"], [0.4444444444444444, \"#bd3786\"], [0.5555555555555556, \"#d8576b\"], [0.6666666666666666, \"#ed7953\"], [0.7777777777777778, \"#fb9f3a\"], [0.8888888888888888, \"#fdca26\"], [1.0, \"#f0f921\"]], \"type\": \"histogram2d\"}], \"histogram2dcontour\": [{\"colorbar\": {\"outlinewidth\": 0, \"ticks\": \"\"}, \"colorscale\": [[0.0, \"#0d0887\"], [0.1111111111111111, \"#46039f\"], [0.2222222222222222, \"#7201a8\"], [0.3333333333333333, \"#9c179e\"], [0.4444444444444444, \"#bd3786\"], [0.5555555555555556, \"#d8576b\"], [0.6666666666666666, \"#ed7953\"], [0.7777777777777778, \"#fb9f3a\"], [0.8888888888888888, \"#fdca26\"], [1.0, \"#f0f921\"]], \"type\": \"histogram2dcontour\"}], \"mesh3d\": [{\"colorbar\": {\"outlinewidth\": 0, \"ticks\": \"\"}, \"type\": \"mesh3d\"}], \"parcoords\": [{\"line\": {\"colorbar\": {\"outlinewidth\": 0, \"ticks\": \"\"}}, \"type\": \"parcoords\"}], \"pie\": [{\"automargin\": true, \"type\": \"pie\"}], \"scatter\": [{\"marker\": {\"colorbar\": {\"outlinewidth\": 0, \"ticks\": \"\"}}, \"type\": \"scatter\"}], \"scatter3d\": [{\"line\": {\"colorbar\": {\"outlinewidth\": 0, \"ticks\": \"\"}}, \"marker\": {\"colorbar\": {\"outlinewidth\": 0, \"ticks\": \"\"}}, \"type\": \"scatter3d\"}], \"scattercarpet\": [{\"marker\": {\"colorbar\": {\"outlinewidth\": 0, \"ticks\": \"\"}}, \"type\": \"scattercarpet\"}], \"scattergeo\": [{\"marker\": {\"colorbar\": {\"outlinewidth\": 0, \"ticks\": \"\"}}, \"type\": \"scattergeo\"}], \"scattergl\": [{\"marker\": {\"colorbar\": {\"outlinewidth\": 0, \"ticks\": \"\"}}, \"type\": \"scattergl\"}], \"scattermapbox\": [{\"marker\": {\"colorbar\": {\"outlinewidth\": 0, \"ticks\": \"\"}}, \"type\": \"scattermapbox\"}], \"scatterpolar\": [{\"marker\": {\"colorbar\": {\"outlinewidth\": 0, \"ticks\": \"\"}}, \"type\": \"scatterpolar\"}], \"scatterpolargl\": [{\"marker\": {\"colorbar\": {\"outlinewidth\": 0, \"ticks\": \"\"}}, \"type\": \"scatterpolargl\"}], \"scatterternary\": [{\"marker\": {\"colorbar\": {\"outlinewidth\": 0, \"ticks\": \"\"}}, \"type\": \"scatterternary\"}], \"surface\": [{\"colorbar\": {\"outlinewidth\": 0, \"ticks\": \"\"}, \"colorscale\": [[0.0, \"#0d0887\"], [0.1111111111111111, \"#46039f\"], [0.2222222222222222, \"#7201a8\"], [0.3333333333333333, \"#9c179e\"], [0.4444444444444444, \"#bd3786\"], [0.5555555555555556, \"#d8576b\"], [0.6666666666666666, \"#ed7953\"], [0.7777777777777778, \"#fb9f3a\"], [0.8888888888888888, \"#fdca26\"], [1.0, \"#f0f921\"]], \"type\": \"surface\"}], \"table\": [{\"cells\": {\"fill\": {\"color\": \"#EBF0F8\"}, \"line\": {\"color\": \"white\"}}, \"header\": {\"fill\": {\"color\": \"#C8D4E3\"}, \"line\": {\"color\": \"white\"}}, \"type\": \"table\"}]}, \"layout\": {\"annotationdefaults\": {\"arrowcolor\": \"#2a3f5f\", \"arrowhead\": 0, \"arrowwidth\": 1}, \"coloraxis\": {\"colorbar\": {\"outlinewidth\": 0, \"ticks\": \"\"}}, \"colorscale\": {\"diverging\": [[0, \"#8e0152\"], [0.1, \"#c51b7d\"], [0.2, \"#de77ae\"], [0.3, \"#f1b6da\"], [0.4, \"#fde0ef\"], [0.5, \"#f7f7f7\"], [0.6, \"#e6f5d0\"], [0.7, \"#b8e186\"], [0.8, \"#7fbc41\"], [0.9, \"#4d9221\"], [1, \"#276419\"]], \"sequential\": [[0.0, \"#0d0887\"], [0.1111111111111111, \"#46039f\"], [0.2222222222222222, \"#7201a8\"], [0.3333333333333333, \"#9c179e\"], [0.4444444444444444, \"#bd3786\"], [0.5555555555555556, \"#d8576b\"], [0.6666666666666666, \"#ed7953\"], [0.7777777777777778, \"#fb9f3a\"], [0.8888888888888888, \"#fdca26\"], [1.0, \"#f0f921\"]], \"sequentialminus\": [[0.0, \"#0d0887\"], [0.1111111111111111, \"#46039f\"], [0.2222222222222222, \"#7201a8\"], [0.3333333333333333, \"#9c179e\"], [0.4444444444444444, \"#bd3786\"], [0.5555555555555556, \"#d8576b\"], [0.6666666666666666, \"#ed7953\"], [0.7777777777777778, \"#fb9f3a\"], [0.8888888888888888, \"#fdca26\"], [1.0, \"#f0f921\"]]}, \"colorway\": [\"#636efa\", \"#EF553B\", \"#00cc96\", \"#ab63fa\", \"#FFA15A\", \"#19d3f3\", \"#FF6692\", \"#B6E880\", \"#FF97FF\", \"#FECB52\"], \"font\": {\"color\": \"#2a3f5f\"}, \"geo\": {\"bgcolor\": \"white\", \"lakecolor\": \"white\", \"landcolor\": \"#E5ECF6\", \"showlakes\": true, \"showland\": true, \"subunitcolor\": \"white\"}, \"hoverlabel\": {\"align\": \"left\"}, \"hovermode\": \"closest\", \"mapbox\": {\"style\": \"light\"}, \"paper_bgcolor\": \"white\", \"plot_bgcolor\": \"#E5ECF6\", \"polar\": {\"angularaxis\": {\"gridcolor\": \"white\", \"linecolor\": \"white\", \"ticks\": \"\"}, \"bgcolor\": \"#E5ECF6\", \"radialaxis\": {\"gridcolor\": \"white\", \"linecolor\": \"white\", \"ticks\": \"\"}}, \"scene\": {\"xaxis\": {\"backgroundcolor\": \"#E5ECF6\", \"gridcolor\": \"white\", \"gridwidth\": 2, \"linecolor\": \"white\", \"showbackground\": true, \"ticks\": \"\", \"zerolinecolor\": \"white\"}, \"yaxis\": {\"backgroundcolor\": \"#E5ECF6\", \"gridcolor\": \"white\", \"gridwidth\": 2, \"linecolor\": \"white\", \"showbackground\": true, \"ticks\": \"\", \"zerolinecolor\": \"white\"}, \"zaxis\": {\"backgroundcolor\": \"#E5ECF6\", \"gridcolor\": \"white\", \"gridwidth\": 2, \"linecolor\": \"white\", \"showbackground\": true, \"ticks\": \"\", \"zerolinecolor\": \"white\"}}, \"shapedefaults\": {\"line\": {\"color\": \"#2a3f5f\"}}, \"ternary\": {\"aaxis\": {\"gridcolor\": \"white\", \"linecolor\": \"white\", \"ticks\": \"\"}, \"baxis\": {\"gridcolor\": \"white\", \"linecolor\": \"white\", \"ticks\": \"\"}, \"bgcolor\": \"#E5ECF6\", \"caxis\": {\"gridcolor\": \"white\", \"linecolor\": \"white\", \"ticks\": \"\"}}, \"title\": {\"x\": 0.05}, \"xaxis\": {\"automargin\": true, \"gridcolor\": \"white\", \"linecolor\": \"white\", \"ticks\": \"\", \"title\": {\"standoff\": 15}, \"zerolinecolor\": \"white\", \"zerolinewidth\": 2}, \"yaxis\": {\"automargin\": true, \"gridcolor\": \"white\", \"linecolor\": \"white\", \"ticks\": \"\", \"title\": {\"standoff\": 15}, \"zerolinecolor\": \"white\", \"zerolinewidth\": 2}}}, \"xaxis\": {\"anchor\": \"y\", \"domain\": [0.0, 1.0], \"title\": {\"text\": \"value\"}}, \"xaxis2\": {\"anchor\": \"y2\", \"domain\": [0.0, 1.0], \"matches\": \"x\", \"showgrid\": true, \"showticklabels\": false}, \"yaxis\": {\"anchor\": \"x\", \"domain\": [0.0, 0.7326], \"title\": {\"text\": \"count\"}}, \"yaxis2\": {\"anchor\": \"x2\", \"domain\": [0.7426, 1.0], \"matches\": \"y2\", \"showgrid\": false, \"showline\": false, \"showticklabels\": false, \"ticks\": \"\"}},                        {\"responsive\": true}                    ).then(function(){\n",
       "                            \n",
       "var gd = document.getElementById('92129e21-5b67-4619-a356-7e70773a8134');\n",
       "var x = new MutationObserver(function (mutations, observer) {{\n",
       "        var display = window.getComputedStyle(gd).display;\n",
       "        if (!display || display === 'none') {{\n",
       "            console.log([gd, 'removed!']);\n",
       "            Plotly.purge(gd);\n",
       "            observer.disconnect();\n",
       "        }}\n",
       "}});\n",
       "\n",
       "// Listen for the removal of the full notebook cells\n",
       "var notebookContainer = gd.closest('#notebook-container');\n",
       "if (notebookContainer) {{\n",
       "    x.observe(notebookContainer, {childList: true});\n",
       "}}\n",
       "\n",
       "// Listen for the clearing of the current output cell\n",
       "var outputEl = gd.closest('.output');\n",
       "if (outputEl) {{\n",
       "    x.observe(outputEl, {childList: true});\n",
       "}}\n",
       "\n",
       "                        })                };                });            </script>        </div>"
      ]
     },
     "metadata": {},
     "output_type": "display_data"
    },
    {
     "data": {
      "text/plain": [
       "'\\nfig = ff.create_distplot(df[columns_normalized], group_labels=\"day of year\")\\nfig.update_layout(showlegend=False, template=\"simple_white\")\\nfig.update_layout(title_text=\"Distributions of Variables in the Sea Ice Dataset\")\\n\\nfig.show()\\n'"
      ]
     },
     "execution_count": 16,
     "metadata": {},
     "output_type": "execute_result"
    }
   ],
   "source": [
    "# Distribution Plots\n",
    "\n",
    "fig = px.histogram(df[columns_normalized], marginal=\"rug\", opacity=.6)\n",
    "fig.show()\n",
    "\n",
    "\"\"\"\n",
    "fig = ff.create_distplot(df[columns_normalized], group_labels=\"day of year\")\n",
    "fig.update_layout(showlegend=False, template=\"simple_white\")\n",
    "fig.update_layout(title_text=\"Distributions of Variables in the Sea Ice Dataset\")\n",
    "\n",
    "fig.show()\n",
    "\"\"\""
   ]
  },
  {
   "cell_type": "code",
   "execution_count": 12,
   "metadata": {},
   "outputs": [
    {
     "data": {
      "text/plain": [
       "['doy',\n",
       " 'x_ease',\n",
       " 'y_ease',\n",
       " 'u_buoy',\n",
       " 'v_buoy',\n",
       " 'u_era5',\n",
       " 'v_era5',\n",
       " 'sic_cdr',\n",
       " 'h_cs2smos',\n",
       " 'h_piomas',\n",
       " 'd2c']"
      ]
     },
     "execution_count": 12,
     "metadata": {},
     "output_type": "execute_result"
    }
   ],
   "source": [
    "columns_normalized"
   ]
  },
  {
   "cell_type": "code",
   "execution_count": null,
   "metadata": {},
   "outputs": [],
   "source": []
  }
 ],
 "metadata": {
  "kernelspec": {
   "display_name": "Python 3",
   "language": "python",
   "name": "python3"
  },
  "language_info": {
   "codemirror_mode": {
    "name": "ipython",
    "version": 3
   },
   "file_extension": ".py",
   "mimetype": "text/x-python",
   "name": "python",
   "nbconvert_exporter": "python",
   "pygments_lexer": "ipython3",
   "version": "3.7.9"
  }
 },
 "nbformat": 4,
 "nbformat_minor": 4
}
